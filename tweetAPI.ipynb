{
 "cells": [
  {
   "cell_type": "code",
   "execution_count": 4,
   "metadata": {},
   "outputs": [],
   "source": [
    "from textblob import TextBlobextBlob"
   ]
  },
  {
   "cell_type": "code",
   "execution_count": 5,
   "metadata": {},
   "outputs": [],
   "source": [
    "a=TextBlob(\" I am not a bad but I love on ice\")"
   ]
  },
  {
   "cell_type": "code",
   "execution_count": 6,
   "metadata": {},
   "outputs": [
    {
     "data": {
      "text/plain": [
       "[('I', 'PRP'),\n",
       " ('am', 'VBP'),\n",
       " ('not', 'RB'),\n",
       " ('a', 'DT'),\n",
       " ('bad', 'JJ'),\n",
       " ('but', 'CC'),\n",
       " ('I', 'PRP'),\n",
       " ('love', 'VBP'),\n",
       " ('on', 'IN'),\n",
       " ('ice', 'NN')]"
      ]
     },
     "execution_count": 6,
     "metadata": {},
     "output_type": "execute_result"
    }
   ],
   "source": [
    "a.tags"
   ]
  },
  {
   "cell_type": "code",
   "execution_count": 7,
   "metadata": {},
   "outputs": [
    {
     "data": {
      "text/plain": [
       "WordList(['I', 'am', 'not', 'a', 'bad', 'but', 'I', 'love', 'on', 'ice'])"
      ]
     },
     "execution_count": 7,
     "metadata": {},
     "output_type": "execute_result"
    }
   ],
   "source": [
    "a.words"
   ]
  },
  {
   "cell_type": "code",
   "execution_count": 8,
   "metadata": {},
   "outputs": [
    {
     "data": {
      "text/plain": [
       "0.42499999999999993"
      ]
     },
     "execution_count": 8,
     "metadata": {},
     "output_type": "execute_result"
    }
   ],
   "source": [
    "a.sentiment.polarity"
   ]
  },
  {
   "cell_type": "code",
   "execution_count": 9,
   "metadata": {},
   "outputs": [],
   "source": [
    "import tweepy"
   ]
  },
  {
   "cell_type": "code",
   "execution_count": 11,
   "metadata": {},
   "outputs": [],
   "source": [
    "Consumer_Key= '9QKoORanrKLB8WpdIrdduc5hm'\n",
    "Consumer_Secret= '2qgIOs3Dhhtt6XTJK8EV19elqOnxSrN9vQU3vWeGFsooY9HO7A'\n"
   ]
  },
  {
   "cell_type": "code",
   "execution_count": 12,
   "metadata": {},
   "outputs": [],
   "source": [
    "Access_Token='449653834-8k6EQgKLAZvrSvQTczaluPKsdKgHm8s4gOhYfLEf'\n",
    "Access_Token_Secret='Fc5CTDeUss23uMNMxaFCMghfKxZfjeiLEihw5geJGvnLb'"
   ]
  },
  {
   "cell_type": "code",
   "execution_count": 13,
   "metadata": {},
   "outputs": [],
   "source": [
    "auth=tweepy.OAuthHandler(Consumer_Key, Consumer_Secret)\n",
    "auth.set_access_token(Access_Token, Access_Token_Secret)"
   ]
  },
  {
   "cell_type": "code",
   "execution_count": 14,
   "metadata": {},
   "outputs": [],
   "source": [
    "api=tweepy.API(auth)"
   ]
  },
  {
   "cell_type": "code",
   "execution_count": 15,
   "metadata": {},
   "outputs": [],
   "source": [
    "public_tweet=api.search('Modi')"
   ]
  },
  {
   "cell_type": "code",
   "execution_count": 17,
   "metadata": {},
   "outputs": [
    {
     "name": "stdout",
     "output_type": "stream",
     "text": [
      "RT @anupamverma51: Narendra Modi: Formation of \"NATIONAL COMMISSION FOR MEN\" in INDIA - Sign the Petition! https://t.co/O93SXDrehe via @Cha…\n",
      "Sentiment(polarity=0.0, subjectivity=0.0)\n",
      "RT @narendramodi_in: PM @narendramodi receives the prestigious 'United Nations Champions of the Earth' award\n",
      "https://t.co/riZ8VI5bGK\n",
      "\n",
      "via N…\n",
      "Sentiment(polarity=0.0, subjectivity=0.0)\n",
      "RT @davidfrawleyved: If the courts don't rule in favor of the Ram Mandir soon, the government should pass an ordinance for it. Likely that…\n",
      "Sentiment(polarity=0.0, subjectivity=1.0)\n",
      "RT @DrGPradhan: Putin Invited @narendramodi JI for a russian summit in September 2019\n",
      "\n",
      "A clear message to Sonia Gandhi, No matter how hard…\n",
      "Sentiment(polarity=0.05000000000000001, subjectivity=0.19166666666666665)\n",
      "RT @Ra_Bies: Anonymous person abuses a sickular girl\n",
      "Libetards: BKL Sanghi, bhakt, BJP IT cell abusing threatening girls pervert predator,…\n",
      "Sentiment(polarity=0.0, subjectivity=0.0)\n",
      "RT @LailaKashyap: Modi : We built 9 crores Toilet \n",
      "Reality : 1 Toilet per second not possible\n",
      "\n",
      "Modi : We built 35 Airports\n",
      "Reality : only 7…\n",
      "Sentiment(polarity=-0.013333333333333332, subjectivity=0.4)\n",
      "@asyouwereAYW @PiazzapulitaLA7 @borghi_claudio Io non guardo più la tv ita nemmeno via web, ci sono mille modi più… https://t.co/4bGwxpb4PS\n",
      "Sentiment(polarity=0.0, subjectivity=0.0)\n",
      "RT @KrishnaKWB: Till 2014 we had 16 IITs and in last 4 yrs 7 added more but our @RahulGandhi not knowing this and saying Modi gvt is not bu…\n",
      "Sentiment(polarity=0.25, subjectivity=0.2833333333333333)\n",
      "RT @HartoshSinghBal: chief of army contingent during Guj violence makes direct allegations against Modi, confirms all suspicions - I met CM…\n",
      "Sentiment(polarity=0.0, subjectivity=0.5)\n",
      "India brushes aside fears of  sanctions from traditional ally US to ink a mouth-watering defence deal with Russia &amp;… https://t.co/X7d3ckSaeA\n",
      "Sentiment(polarity=0.35, subjectivity=0.85)\n",
      "RT @abhijitmajumder: In Mamata’s #Bengal, Dalit man Haribhakta Mandal praises Modi on #FB. He says TMC goons thrashed him, parents. When hi…\n",
      "Sentiment(polarity=0.0, subjectivity=0.0)\n",
      "RT @keshavyadaviyc: The youth of India trusted PM Modi’s tall promises, but he and his govt turned their backs on the youth. Now, India has…\n",
      "Sentiment(polarity=0.0, subjectivity=0.0)\n",
      "RT @DrGPradhan: Putin Invited @narendramodi JI for a russian summit in September 2019\n",
      "\n",
      "A clear message to Sonia Gandhi, No matter how hard…\n",
      "Sentiment(polarity=0.05000000000000001, subjectivity=0.19166666666666665)\n",
      "RT @kurup62: 2002 Gujarat riots : Despite request to Narendra Modi , Army lost a crucial day waiting for vehicles says Lt General Zameer Ud…\n",
      "Sentiment(polarity=0.02500000000000001, subjectivity=0.75)\n",
      "RT @pbhushan1: Yashwant Sinha, Arun Shourie &amp; I have filed a detailed 32 page complaint with 46 annexures to the CBI Director against the P…\n",
      "Sentiment(polarity=0.05000000000000002, subjectivity=0.475)\n"
     ]
    }
   ],
   "source": [
    "for tweet in public_tweet:\n",
    "    print(tweet.text)\n",
    "    analysis=TextBlob(tweet.text)\n",
    "    print(analysis.sentiment)"
   ]
  },
  {
   "cell_type": "code",
   "execution_count": null,
   "metadata": {},
   "outputs": [],
   "source": []
  }
 ],
 "metadata": {
  "kernelspec": {
   "display_name": "Python 3",
   "language": "python",
   "name": "python3"
  },
  "language_info": {
   "codemirror_mode": {
    "name": "ipython",
    "version": 3
   },
   "file_extension": ".py",
   "mimetype": "text/x-python",
   "name": "python",
   "nbconvert_exporter": "python",
   "pygments_lexer": "ipython3",
   "version": "3.6.5"
  }
 },
 "nbformat": 4,
 "nbformat_minor": 2
}
