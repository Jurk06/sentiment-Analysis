{
 "cells": [
  {
   "cell_type": "code",
   "execution_count": 18,
   "metadata": {},
   "outputs": [
    {
     "name": "stdout",
     "output_type": "stream",
     "text": [
      "[nltk_data] Downloading package stopwords to\n",
      "[nltk_data]     C:\\Users\\rabis\\AppData\\Roaming\\nltk_data...\n",
      "[nltk_data]   Package stopwords is already up-to-date!\n"
     ]
    }
   ],
   "source": [
    "import pandas as pd\n",
    "import numpy as np\n",
    "import matplotlib.pyplot as plt\n",
    "import nltk\n",
    "from nltk.corpus import stopwords\n",
    "from nltk.stem.snowball import SnowballStemmer\n",
    "from nltk.stem import WordNetLemmatizer\n",
    "nltk.download('stopwords')\n",
    "import re"
   ]
  },
  {
   "cell_type": "code",
   "execution_count": 8,
   "metadata": {},
   "outputs": [],
   "source": [
    "df=pd.read_csv('D:\\\\python\\\\Titanic_ML\\\\twitter\\\\data.csv', sep='\\t',quoting=3 )"
   ]
  },
  {
   "cell_type": "code",
   "execution_count": 21,
   "metadata": {},
   "outputs": [
    {
     "data": {
      "text/plain": [
       "(100, 1)"
      ]
     },
     "execution_count": 21,
     "metadata": {},
     "output_type": "execute_result"
    }
   ],
   "source": [
    "df.shape"
   ]
  },
  {
   "cell_type": "code",
   "execution_count": 10,
   "metadata": {},
   "outputs": [
    {
     "name": "stdout",
     "output_type": "stream",
     "text": [
      "<class 'pandas.core.frame.DataFrame'>\n",
      "RangeIndex: 100 entries, 0 to 99\n",
      "Data columns (total 1 columns):\n",
      "sentiment,text,user    100 non-null object\n",
      "dtypes: object(1)\n",
      "memory usage: 880.0+ bytes\n"
     ]
    }
   ],
   "source": [
    "df.info()"
   ]
  },
  {
   "cell_type": "code",
   "execution_count": null,
   "metadata": {},
   "outputs": [],
   "source": [
    "dataset=pd.read_csv('')"
   ]
  },
  {
   "cell_type": "code",
   "execution_count": 25,
   "metadata": {},
   "outputs": [],
   "source": [
    "def review_to_words(raw_review):\n",
    "    review=raw_review\n",
    "    review=re.sub('[^a-zA-Z]', ' ' , review)\n",
    "    review=review.lower()\n",
    "    review=review.split()\n",
    "    lam=WordNetLemmatizer()\n",
    "    review=[lam.lemmatize(w) for w in review if not w in set(stopwords.words('english'))]\n",
    "    return ''.join(review)"
   ]
  },
  {
   "cell_type": "code",
   "execution_count": 26,
   "metadata": {},
   "outputs": [],
   "source": [
    "corpus=[]\n",
    "for i in range(0,100):\n",
    "    corpus.append(review_to_words(df['sentiment,text,user'][i]))"
   ]
  },
  {
   "cell_type": "code",
   "execution_count": 28,
   "metadata": {},
   "outputs": [],
   "source": [
    "df['new']=corpus"
   ]
  },
  {
   "cell_type": "code",
   "execution_count": 29,
   "metadata": {},
   "outputs": [
    {
     "data": {
      "text/html": [
       "<div>\n",
       "<style scoped>\n",
       "    .dataframe tbody tr th:only-of-type {\n",
       "        vertical-align: middle;\n",
       "    }\n",
       "\n",
       "    .dataframe tbody tr th {\n",
       "        vertical-align: top;\n",
       "    }\n",
       "\n",
       "    .dataframe thead th {\n",
       "        text-align: right;\n",
       "    }\n",
       "</style>\n",
       "<table border=\"1\" class=\"dataframe\">\n",
       "  <thead>\n",
       "    <tr style=\"text-align: right;\">\n",
       "      <th></th>\n",
       "      <th>sentiment,text,user</th>\n",
       "      <th>new</th>\n",
       "    </tr>\n",
       "  </thead>\n",
       "  <tbody>\n",
       "    <tr>\n",
       "      <th>0</th>\n",
       "      <td>\"neutral\",\"REGISTRTATION OPEN!! and details po...</td>\n",
       "      <td>neutralregistrtationopendetailpostedcomplexity...</td>\n",
       "    </tr>\n",
       "    <tr>\n",
       "      <th>1</th>\n",
       "      <td>\"neutral\",\"RT @exl_service: Rohit Kapoor, our ...</td>\n",
       "      <td>neutralrtexlservicerohitkapoorvicechairmanampc...</td>\n",
       "    </tr>\n",
       "    <tr>\n",
       "      <th>2</th>\n",
       "      <td>\"positive\",\"Cadre 6 sharing best practices in ...</td>\n",
       "      <td>positivecadresharingbestpracticesciencedrivend...</td>\n",
       "    </tr>\n",
       "    <tr>\n",
       "      <th>3</th>\n",
       "      <td>\"positive\",\"Big Data Ethics and 10 Controversi...</td>\n",
       "      <td>positivebigdataethiccontroversialdatascienceex...</td>\n",
       "    </tr>\n",
       "    <tr>\n",
       "      <th>4</th>\n",
       "      <td>\"neutral\",\"Our Group Head of Data Science, @sa...</td>\n",
       "      <td>neutralgroupheaddatasciencesameerrahmanrecentl...</td>\n",
       "    </tr>\n",
       "  </tbody>\n",
       "</table>\n",
       "</div>"
      ],
      "text/plain": [
       "                                 sentiment,text,user  \\\n",
       "0  \"neutral\",\"REGISTRTATION OPEN!! and details po...   \n",
       "1  \"neutral\",\"RT @exl_service: Rohit Kapoor, our ...   \n",
       "2  \"positive\",\"Cadre 6 sharing best practices in ...   \n",
       "3  \"positive\",\"Big Data Ethics and 10 Controversi...   \n",
       "4  \"neutral\",\"Our Group Head of Data Science, @sa...   \n",
       "\n",
       "                                                 new  \n",
       "0  neutralregistrtationopendetailpostedcomplexity...  \n",
       "1  neutralrtexlservicerohitkapoorvicechairmanampc...  \n",
       "2  positivecadresharingbestpracticesciencedrivend...  \n",
       "3  positivebigdataethiccontroversialdatascienceex...  \n",
       "4  neutralgroupheaddatasciencesameerrahmanrecentl...  "
      ]
     },
     "execution_count": 29,
     "metadata": {},
     "output_type": "execute_result"
    }
   ],
   "source": [
    "df.head()"
   ]
  },
  {
   "cell_type": "code",
   "execution_count": 30,
   "metadata": {},
   "outputs": [],
   "source": [
    "df.drop(['sentiment,text,user'], axis=1, inplace=True)"
   ]
  },
  {
   "cell_type": "code",
   "execution_count": 31,
   "metadata": {},
   "outputs": [
    {
     "data": {
      "text/html": [
       "<div>\n",
       "<style scoped>\n",
       "    .dataframe tbody tr th:only-of-type {\n",
       "        vertical-align: middle;\n",
       "    }\n",
       "\n",
       "    .dataframe tbody tr th {\n",
       "        vertical-align: top;\n",
       "    }\n",
       "\n",
       "    .dataframe thead th {\n",
       "        text-align: right;\n",
       "    }\n",
       "</style>\n",
       "<table border=\"1\" class=\"dataframe\">\n",
       "  <thead>\n",
       "    <tr style=\"text-align: right;\">\n",
       "      <th></th>\n",
       "      <th>new</th>\n",
       "    </tr>\n",
       "  </thead>\n",
       "  <tbody>\n",
       "    <tr>\n",
       "      <th>0</th>\n",
       "      <td>neutralregistrtationopendetailpostedcomplexity...</td>\n",
       "    </tr>\n",
       "    <tr>\n",
       "      <th>1</th>\n",
       "      <td>neutralrtexlservicerohitkapoorvicechairmanampc...</td>\n",
       "    </tr>\n",
       "    <tr>\n",
       "      <th>2</th>\n",
       "      <td>positivecadresharingbestpracticesciencedrivend...</td>\n",
       "    </tr>\n",
       "    <tr>\n",
       "      <th>3</th>\n",
       "      <td>positivebigdataethiccontroversialdatascienceex...</td>\n",
       "    </tr>\n",
       "    <tr>\n",
       "      <th>4</th>\n",
       "      <td>neutralgroupheaddatasciencesameerrahmanrecentl...</td>\n",
       "    </tr>\n",
       "  </tbody>\n",
       "</table>\n",
       "</div>"
      ],
      "text/plain": [
       "                                                 new\n",
       "0  neutralregistrtationopendetailpostedcomplexity...\n",
       "1  neutralrtexlservicerohitkapoorvicechairmanampc...\n",
       "2  positivecadresharingbestpracticesciencedrivend...\n",
       "3  positivebigdataethiccontroversialdatascienceex...\n",
       "4  neutralgroupheaddatasciencesameerrahmanrecentl..."
      ]
     },
     "execution_count": 31,
     "metadata": {},
     "output_type": "execute_result"
    }
   ],
   "source": [
    "df.head()"
   ]
  },
  {
   "cell_type": "code",
   "execution_count": 32,
   "metadata": {},
   "outputs": [],
   "source": [
    "from sklearn.feature_extraction.text import TfidfVectorizer"
   ]
  },
  {
   "cell_type": "code",
   "execution_count": 33,
   "metadata": {},
   "outputs": [
    {
     "data": {
      "text/plain": [
       "TfidfVectorizer(analyzer='word', binary=False, decode_error='strict',\n",
       "        dtype=<class 'numpy.int64'>, encoding='utf-8', input='content',\n",
       "        lowercase=True, max_df=1.0, max_features=None, min_df=1,\n",
       "        ngram_range=(1, 1), norm='l2', preprocessor=None, smooth_idf=True,\n",
       "        stop_words=None, strip_accents=None, sublinear_tf=False,\n",
       "        token_pattern='(?u)\\\\b\\\\w\\\\w+\\\\b', tokenizer=None, use_idf=True,\n",
       "        vocabulary=None)"
      ]
     },
     "execution_count": 33,
     "metadata": {},
     "output_type": "execute_result"
    }
   ],
   "source": [
    "vectorize=TfidfVectorizer()\n",
    "vectorize.fit(df.new)"
   ]
  },
  {
   "cell_type": "code",
   "execution_count": 34,
   "metadata": {},
   "outputs": [
    {
     "data": {
      "text/plain": [
       "{'neutralregistrtationopendetailpostedcomplexitytransporationscienceconnectivitydataampautomationhttpcoignqprjjbumichcs': 28,\n",
       " 'neutralrtexlservicerohitkapoorvicechairmanampceohighlightthreefocusareabpmindustryskillingrebrandingindvatsalok': 38,\n",
       " 'positivecadresharingbestpracticesciencedrivendatahttpconsqftmxzxwelemcadre': 58,\n",
       " 'positivebigdataethiccontroversialdatascienceexperimenthttpcocviluehemxnextplanetrd': 56,\n",
       " 'neutralgroupheaddatasciencesameerrahmanrecentlyspokesitkawalesmarketingleadershipserihttpcozfzjzfjjeditagency': 17,\n",
       " 'positivertherhoopstatsheyfollowerstilllookingvolunteerupcomingncaaseasonnnifsomeoneknowwoulcmcasarez': 78,\n",
       " 'positivertwaltatekssercdigitalkeepeyeexcitingsqadevelopmentsqacomputingdatascienceschoolhttpcounrcnouqicderekhouston': 97,\n",
       " 'positiverturbanrgfunconversationaloktayitetrascienceteamscalinghealthcareinvestmentgloballyalongevechelsbells': 96,\n",
       " 'negativetodayopportunityaskministerdifficultqagencybasedsciencerelyingdatahttpcofjfisgghargunie': 5,\n",
       " 'positivertherhoopstatsheyfollowerstilllookingvolunteerupcomingncaaseasonnnifsomeoneknowwoullachinarobinson': 79,\n",
       " 'positivertiainljbrownfinancialprofessionallearndatasciencennreadhttpconbtrgjfnndatasciencemachinelearninggullferrara': 82,\n",
       " 'neutralfinancialprofessionallearndatasciencehttpcoswadzrhhnnfollowutechnewstechhttpcoruwohofhabrnews': 15,\n",
       " 'positivertmgoeminnedatasciencetransformationvdemocratizationdatatechnologyexcellentkeynotemainaktheodorem': 86,\n",
       " 'positivertpobenergyaccordingnewnasadatahumanliterallyknockedplanetearthbalancehttpcoflrgzvahttpcobdihay': 91,\n",
       " 'positivefinancialprofessionallearndatasciencennreadhttpconbtrgjfnndatasciencehttpcordmkadiainljbrown': 65,\n",
       " 'positivertunnitallmanmachinelearningbranchcomputerscienceinsteadapplyinghighlevelalgorithmsolveproblemexplchittuanand': 95,\n",
       " 'neutralrtkdnuggetsessentialmathdatasciencehttpcohavvwvgfwhttpcogqxctxaasecureiot': 40,\n",
       " 'neutraltangomitteckelchigeorgeemolicarusgordonrearrogtallblokealanpoirierjamesdehttpcoxebghmptyrlnnelson': 53,\n",
       " 'positivertpobenergyaccordingnewnasadatahumanliterallyknockedplanetearthbalancehttpcoflrgzvahttpcobdiearthenbluesky': 90,\n",
       " 'positivertkdnuggetswinninggameplanbuildingdatascienceteamhttpconcfodthttpcopjzyygoscarcumbicus': 84,\n",
       " 'positiveaccordingnewnasadatahumanliterallyknockedplanetearthbalancehttpcoflrgzvahttpcobdidcbislpobenergy': 55,\n",
       " 'neutraluxmeasureddatasciencecomemetricnnproducttanknairobiproducttanknrbhttpcohkwmvcmmrlthatguyamose': 54,\n",
       " 'neutralrtmostlybitcoinchristiansciencemonitoraidprogramusedatatrackingtechnologybitcoinhttpcorhwetuhttpemccoinhq': 44,\n",
       " 'neutralrtxalfeedchristiansciencemonitorstoryaidprogramusedatatrackingtechnologybitcoinhttpcoqdokplzemccoinhq': 51,\n",
       " 'neutralrtcodatanewsannoyslotdatasciencedataanalyticsprogramstatisticvisualisatisimonhodson': 32,\n",
       " 'positivertmsftimagineinteresteddatasciencecareerlearnnumpyperformlargecalculationsinglelinecodehttpalbabahmadkhan': 87,\n",
       " 'neutralrtddnanasparkdatasciencecookbookhttpcotteliemvbabylouie': 35,\n",
       " 'positivefunconversationaloktayitetrascienceteamscalinghealthcareinvestmentgloballyalongwihttpcoxnglybjzmurbanrg': 66,\n",
       " 'neutralrtshareinsightsshareinsightsmodelmanagementfeaturedatascienceexperienceneededuseanalyticmodelgatherpriyankagotsurv': 48,\n",
       " 'neutralrtstefanopulitiactualpaperpresentedforestsatusingcombinationfielduavesaeosentineldatasamulijunttila': 49,\n",
       " 'positivewantknowuseuavphotogrammetricdataforestinventorywithoutdtmcheckhttpcosdtrfasimcstefanopuliti': 99,\n",
       " 'positivertarjsonstatsmldatasciencefriendnniexpectinggraduatebiostatisticsphdsummersearchingfulltimmofferw': 72,\n",
       " 'positivertadamrutherfordfryrsquaredworldcollideyetgaltonfirstcoinedregressionnewtechniquequotenewtechcarsjam': 70,\n",
       " 'neutralhttpcotgvtjcpmfpythonfinancialprofessionallearndatasciencecityhttpcozmfdgrqmdvtweetingotusowl': 19,\n",
       " 'positivefantasticexplanationdatasciencenonexperthttpcokzkidceaeantonyedwards': 64,\n",
       " 'positiveintroducingdatasciencebigdatamachinelearningusingpythontoolhttpcomqngyclddfafa': 68,\n",
       " 'neutralpythonampintroductiondatasciencehttpcowluhugqzhttpcooszlasteudemyfreecouses': 25,\n",
       " 'negativertnstrategybasicbuildingblockdatascienceboilthingclassificationregressiondecisiothisishruk': 2,\n",
       " 'positivertridderjeroencomparingdatacountryfoundspendingproducehighqualityscienceincreasingcombaghbanzadeh': 92,\n",
       " 'neutralfinancialprofessionallearndatasciencehttpcozyoggdatascienceaihttpcoxkisgpnntsuriyasubraman': 16,\n",
       " 'neutralrtkdnuggetsessentialmathdatasciencehttpcohavvwvgfwhttpcogqxctxaadrotudi': 39,\n",
       " 'positivertetsinfupvjornadasdatasciencesocialgoodhttpcoybpouyurakhttpcobwlibwceferra': 77,\n",
       " 'positivertmsftimagineinteresteddatasciencecareerlearnnumpyperformlargecalculationsinglelinecodehttpcryptokohn': 88,\n",
       " 'positivedatasciencemoderndataarchitecturehttpcojpyqchhhandan': 63,\n",
       " 'positivebusinessintelligencebundlesetsucceedcalehuntnnbeingsuccessfulcorporatesehttpcoziuqepbkuujikai': 57,\n",
       " 'positivertherhoopstatsheyfollowerstilllookingvolunteerupcomingncaaseasonnnifsomeoneknowwoulnemchocke': 80,\n",
       " 'negativejohnsumsercrossingbigdatadatascienceanalyticschasmdifficultneedteamwillinghttpcohdfjeikegs': 0,\n",
       " 'neutralsparkdatasciencecookbookhttpcotteliemvddnana': 52,\n",
       " 'positiveheyfollowerstilllookingvolunteerupcomingncaaseasonnnifsomeoneknowhttpcormopmenbsoherhoopstats': 67,\n",
       " 'positivedatasciencemoderndataarchitecturehttpcogqwijayzdougbrowndba': 62,\n",
       " 'neutralbigdatachangingsciencemosaicsciencehttpcorxwwxejpikyaa': 8,\n",
       " 'neutralrtkirkdbornetutorialdatasciencesimplifiedpartregressionclassificationmodelselectionvalidationgeneralizationhurgoddess': 42,\n",
       " 'positivertmsftimagineinteresteddatasciencecareerlearnnumpyperformlargecalculationsinglelinecodehttphackernoon': 89,\n",
       " 'neutralrtsuntimesobitsripphysicistleonledermandescribedthrillsciencemorninglookingdatahbebo': 50,\n",
       " 'positivertenergywaysrltodaybudapestinvitedsepeupresentinnovativeapproachdatascienceampaisolutioneuropeansepeu': 76,\n",
       " 'positiveseelatestharryhinesblvddallasjobclickapplypopulationsciencedataanalystiibehavorialhttpcocfslqgnuftmjdfw': 98,\n",
       " 'neutralrtronaldvanloonpythonovertakesrbecomesleaderdatasciencemachinelearningplatformnkdnuggetsnnhttpscognrogermoore': 47,\n",
       " 'neutralactualpaperpresentedforestsatusingcombinationfielduavesaeosentineldathttpcobjgfjystefanopuliti': 7,\n",
       " 'neutralnatesilveressentialcertaintycomedatasciencebackgroundlikefeelsortthingcletustsjy': 21,\n",
       " 'positivecheckinglotfreeopensourcedatasetsmakeaibetterdatasciencecentralhttpconkpknjwpateii': 59,\n",
       " 'positivertearthcubefiredenablinggeosciencediscoverydevelopingnewenhanceddatainfrastructureworkflowrabernat': 75,\n",
       " 'positivertsatijalabwowrandallplattlabuscrisprspaceracquisitionrecordstorecelltranscriptionalhistorydnaseemsllarsborm': 93,\n",
       " 'neutralrtdebbiediscoversapplyingdatasciencecustomerservicechatbotsartemerrittmediumhttpcoltvlidgnzgene': 37,\n",
       " 'neutralrtcomendadormbfoptimiselaunchinternshipprogramdatasciencegraduatehttpcojkntzdatasciencebigdatadataaipubliceyesuk': 34,\n",
       " 'neutraljerbivoreknowpeoplealreadythinglikeseeneffortevaluatestatisticalmethodsocihttpcoevkljbuvnfavstats': 20,\n",
       " 'neutralrtkdnuggetsessentialmathdatasciencehttpcohavvwvgfwhttpcogqxctxaawcfinlay': 41,\n",
       " 'neutraldatasciencekagglewalkthroughcleaningdatakdnuggetshttpcooeumnkzxdatacleaninghttpcoecpcytrudbakerit': 13,\n",
       " 'positiveconstantlysinkingrateloyaltycustomertimerethinkstrategyimportanttoolhttpcoyulqtiomeanalytics': 61,\n",
       " 'neutralrtalgosjoninittygrittyusingunglobalplatformmethoddeveloperservicedatascienceapprenticejoepeskettdatascicampus': 30,\n",
       " 'neutralrtcenterdatadromeneengoedpensioenorigamiendatasciencedatdetitelvandeinaugureleredediemarikeknoefhooglerajmvsonsbeek': 31,\n",
       " 'neutralrtcomendadormbfoptimiselaunchinternshipprogramdatasciencegraduatehttpcojkntzdatasciencebigdatadataaifasanomultibank': 33,\n",
       " 'neutralreasonusecrossvalidationdatascienceprojecthttpcovsjiyckoomshwedosh': 26,\n",
       " 'negativeunserdatacentersciencecenterbereitetkomplexethemenfrsieaufdassieleichtzuverstehensindhttpcoalspuvftcqschneiderelecde': 6,\n",
       " 'positivertiainljbrownequifaxjoinmanipalevangelizedatascienceindiannreadhttpcobkfsteotonndatasciencemacparismahavira': 81,\n",
       " 'neutralcompanionarticlepreclinicaldatalillydiabetesglpgipcoagonistlymolmetabhttpconackfyqojdanieljdrucker': 11,\n",
       " 'neutralchristiansciencemonitorstoryaidprogramusedatatrackingtechnologybitcoinhttpcoqdokplzxalfeed': 10,\n",
       " 'positivertiainljbrowntravelappealaddfundingbringdatasciencesaucetravelbusinessnnreadhttpcomarcopark': 83,\n",
       " 'neutralhttpcoqbsheeultkkursgeobigdatasciencerzethzdiesemkursbeleuchtenwirdierollhttpcodojiidkogeowebforumch': 18,\n",
       " 'neutralcrossingbigdatadatascienceanalyticschasmhttpcotmvnfvxckjohnsumser': 12,\n",
       " 'neutraldatascienceshippingmaritimetrendmatternnhttpscojramahbmhttpcosmxmodvymismarineuk': 14,\n",
       " 'positivertantgrassodatasciencesingledisciplinecraftintersectionmanydeconstructingdatasciencelinkgtgthttpandreasboehmer': 71,\n",
       " 'positivertdrobtheoreticalmathknowlotspecificfieldnnappliedmathknowlittlemanyfieldnndatascienceknowusetpq': 74,\n",
       " 'positiverttheofficialporpsurelycouldfilleverypublicofficecountrypeopleinvolvedfinancialfraudhavredsnoopystock': 94,\n",
       " 'positivekazanovakddcourserawinhttpcockfulfwdblackcat': 69,\n",
       " 'negativertthousandwreckswrotedesigningsciencecasualaudiencemediumpleasedseepostedhttpcounugjhinkybarracuda': 4,\n",
       " 'positivechickpeamccokkinermovedatadrivenguycontributeanythingmeaningfulvivischttpcovdbcuntlobrianuherek': 60,\n",
       " 'positivertluxantavemetaluxnewadvisordavidakindelejoinedteamorderbringawarenessproventrackrecordfinaayue': 85,\n",
       " 'neutralrecommendanyonejobcanadahttpcodpglxzmjobofthedaybusinessmgmthiringaccenturecajobs': 27,\n",
       " 'negativerttedxspringfieldspeakerhighlightjaneadamresidentdatavisualizationartistuniversityvermontcomplexsystemcuvmprovost': 3,\n",
       " 'positivertbigdataezakomanycompanyneeddatascientistsfindskillneedovercomeskillgapalsoprestchemtcem': 73,\n",
       " 'neutralrtkirkdbornetutorialdatasciencesimplifiedpartregressionclassificationmodelselectionvalidationgeneralizationiainljbrown': 43,\n",
       " 'neutralopenscienceopenoutcomeopendataalsousingopeninputvonschomberghttpcopyjkpaunbjoseprace': 23,\n",
       " 'neutralniltonrckbotofdemaisaiencontrogaleradatelapretascripteirosczeirosumavibemmelhordacohttpcofrnutxditlallainnc': 22,\n",
       " 'negativertmeaningnessfraudinventedfactdifferentproblemnonsensesciencepublishingpaperbasedfalsemadedatfilkr': 1,\n",
       " 'neutralrtaapariciomderplimackmdchapinmduretericbudpdesignedshowobenefitinformdesigninterpretationcochapinmd': 29,\n",
       " 'neutralchristiansciencemonitoraidprogramusedatatrackingtechnologybitcoinhttpcorhwetuhttpcofuapzcnrtimostlybitcoin': 9,\n",
       " 'neutralrtpybonaccisivaasistiraltallerdeintroduccindatascienceenpythondelapyconesorganizadoporpydatamallorcabluekiriteam': 46,\n",
       " 'neutralrtnewreadiaheardterrifictalklaurenfkleindigifrontdigitalfrontierconferencepowerdynamicdadigifront': 45,\n",
       " 'neutralrtdebbiediscoversapplyingdatasciencecustomerservicechatbotsartemerrittmediumhttpcoltvlidgnzgavegasd': 36,\n",
       " 'neutralprecisoaprenderdatascienceemsemanasrichardtiti': 24}"
      ]
     },
     "execution_count": 34,
     "metadata": {},
     "output_type": "execute_result"
    }
   ],
   "source": [
    "vectorize.vocabulary_"
   ]
  },
  {
   "cell_type": "code",
   "execution_count": 35,
   "metadata": {},
   "outputs": [],
   "source": [
    "vectorize=vectorize.transform([df.new[0]])"
   ]
  },
  {
   "cell_type": "code",
   "execution_count": 36,
   "metadata": {},
   "outputs": [
    {
     "data": {
      "text/plain": [
       "<1x100 sparse matrix of type '<class 'numpy.float64'>'\n",
       "\twith 1 stored elements in Compressed Sparse Row format>"
      ]
     },
     "execution_count": 36,
     "metadata": {},
     "output_type": "execute_result"
    }
   ],
   "source": [
    "vectorize"
   ]
  },
  {
   "cell_type": "code",
   "execution_count": 40,
   "metadata": {},
   "outputs": [
    {
     "data": {
      "text/plain": [
       "74"
      ]
     },
     "execution_count": 40,
     "metadata": {},
     "output_type": "execute_result"
    }
   ],
   "source": [
    "for i in range(0,100):\n",
    "    \n",
    "len(df.new[2])"
   ]
  },
  {
   "cell_type": "code",
   "execution_count": 48,
   "metadata": {},
   "outputs": [],
   "source": [
    "cols=[ 'sentiments', 'text', 'user'] \n",
    "df1=pd.read_csv('D:\\\\python\\\\Titanic_ML\\\\twitter\\\\data.csv', names=cols)"
   ]
  },
  {
   "cell_type": "code",
   "execution_count": 49,
   "metadata": {},
   "outputs": [
    {
     "data": {
      "text/html": [
       "<div>\n",
       "<style scoped>\n",
       "    .dataframe tbody tr th:only-of-type {\n",
       "        vertical-align: middle;\n",
       "    }\n",
       "\n",
       "    .dataframe tbody tr th {\n",
       "        vertical-align: top;\n",
       "    }\n",
       "\n",
       "    .dataframe thead th {\n",
       "        text-align: right;\n",
       "    }\n",
       "</style>\n",
       "<table border=\"1\" class=\"dataframe\">\n",
       "  <thead>\n",
       "    <tr style=\"text-align: right;\">\n",
       "      <th></th>\n",
       "      <th>sentiments</th>\n",
       "      <th>text</th>\n",
       "      <th>user</th>\n",
       "    </tr>\n",
       "  </thead>\n",
       "  <tbody>\n",
       "    <tr>\n",
       "      <th>0</th>\n",
       "      <td>sentiment</td>\n",
       "      <td>text</td>\n",
       "      <td>user</td>\n",
       "    </tr>\n",
       "    <tr>\n",
       "      <th>1</th>\n",
       "      <td>neutral</td>\n",
       "      <td>REGISTRTATION OPEN!! and details posted for \\C...</td>\n",
       "      <td>Data &amp;amp; Automation\\\"… https://t.co/IGnqprj...</td>\n",
       "    </tr>\n",
       "    <tr>\n",
       "      <th>2</th>\n",
       "      <td>neutral</td>\n",
       "      <td>RT @exl_service: Rohit Kapoor, our Vice Chairm...</td>\n",
       "      <td>vatsalok</td>\n",
       "    </tr>\n",
       "    <tr>\n",
       "      <th>3</th>\n",
       "      <td>positive</td>\n",
       "      <td>Cadre 6 sharing best practices in Science.  We...</td>\n",
       "      <td>ElemCadre6</td>\n",
       "    </tr>\n",
       "    <tr>\n",
       "      <th>4</th>\n",
       "      <td>positive</td>\n",
       "      <td>Big Data Ethics and 10 Controversial Data Scie...</td>\n",
       "      <td>NeXtPlanetRD</td>\n",
       "    </tr>\n",
       "  </tbody>\n",
       "</table>\n",
       "</div>"
      ],
      "text/plain": [
       "  sentiments                                               text  \\\n",
       "0  sentiment                                               text   \n",
       "1    neutral  REGISTRTATION OPEN!! and details posted for \\C...   \n",
       "2    neutral  RT @exl_service: Rohit Kapoor, our Vice Chairm...   \n",
       "3   positive  Cadre 6 sharing best practices in Science.  We...   \n",
       "4   positive  Big Data Ethics and 10 Controversial Data Scie...   \n",
       "\n",
       "                                                user  \n",
       "0                                               user  \n",
       "1   Data &amp; Automation\\\"… https://t.co/IGnqprj...  \n",
       "2                                           vatsalok  \n",
       "3                                         ElemCadre6  \n",
       "4                                       NeXtPlanetRD  "
      ]
     },
     "execution_count": 49,
     "metadata": {},
     "output_type": "execute_result"
    }
   ],
   "source": [
    "df1.head()"
   ]
  },
  {
   "cell_type": "code",
   "execution_count": 50,
   "metadata": {},
   "outputs": [
    {
     "data": {
      "text/plain": [
       "neutral      48\n",
       "positive     45\n",
       "negative      7\n",
       "sentiment     1\n",
       "Name: sentiments, dtype: int64"
      ]
     },
     "execution_count": 50,
     "metadata": {},
     "output_type": "execute_result"
    }
   ],
   "source": [
    "df1.sentiments.value_counts()"
   ]
  },
  {
   "cell_type": "code",
   "execution_count": 65,
   "metadata": {},
   "outputs": [],
   "source": [
    "df1.drop(df1.index[0], inplace=True)"
   ]
  },
  {
   "cell_type": "code",
   "execution_count": 66,
   "metadata": {},
   "outputs": [
    {
     "data": {
      "text/plain": [
       "neutral     48\n",
       "positive    45\n",
       "negative     7\n",
       "Name: sentiments, dtype: int64"
      ]
     },
     "execution_count": 66,
     "metadata": {},
     "output_type": "execute_result"
    }
   ],
   "source": [
    "df1.sentiments.value_counts()"
   ]
  },
  {
   "cell_type": "code",
   "execution_count": 69,
   "metadata": {},
   "outputs": [],
   "source": [
    "map_sentiment={'neutral':0, 'positive':1, 'negative':-1}\n",
    "df1['sentiments']=df1['sentiments'].map(map_sentiment)"
   ]
  },
  {
   "cell_type": "code",
   "execution_count": 70,
   "metadata": {},
   "outputs": [
    {
     "data": {
      "text/html": [
       "<div>\n",
       "<style scoped>\n",
       "    .dataframe tbody tr th:only-of-type {\n",
       "        vertical-align: middle;\n",
       "    }\n",
       "\n",
       "    .dataframe tbody tr th {\n",
       "        vertical-align: top;\n",
       "    }\n",
       "\n",
       "    .dataframe thead th {\n",
       "        text-align: right;\n",
       "    }\n",
       "</style>\n",
       "<table border=\"1\" class=\"dataframe\">\n",
       "  <thead>\n",
       "    <tr style=\"text-align: right;\">\n",
       "      <th></th>\n",
       "      <th>sentiments</th>\n",
       "      <th>text</th>\n",
       "      <th>user</th>\n",
       "    </tr>\n",
       "  </thead>\n",
       "  <tbody>\n",
       "    <tr>\n",
       "      <th>1</th>\n",
       "      <td>NaN</td>\n",
       "      <td>REGISTRTATION OPEN!! and details posted for \\C...</td>\n",
       "      <td>Data &amp;amp; Automation\\\"… https://t.co/IGnqprj...</td>\n",
       "    </tr>\n",
       "    <tr>\n",
       "      <th>2</th>\n",
       "      <td>NaN</td>\n",
       "      <td>RT @exl_service: Rohit Kapoor, our Vice Chairm...</td>\n",
       "      <td>vatsalok</td>\n",
       "    </tr>\n",
       "    <tr>\n",
       "      <th>3</th>\n",
       "      <td>NaN</td>\n",
       "      <td>Cadre 6 sharing best practices in Science.  We...</td>\n",
       "      <td>ElemCadre6</td>\n",
       "    </tr>\n",
       "    <tr>\n",
       "      <th>4</th>\n",
       "      <td>NaN</td>\n",
       "      <td>Big Data Ethics and 10 Controversial Data Scie...</td>\n",
       "      <td>NeXtPlanetRD</td>\n",
       "    </tr>\n",
       "    <tr>\n",
       "      <th>5</th>\n",
       "      <td>NaN</td>\n",
       "      <td>Our Group Head of Data Science, @sameerrahman9...</td>\n",
       "      <td>edit_agency</td>\n",
       "    </tr>\n",
       "  </tbody>\n",
       "</table>\n",
       "</div>"
      ],
      "text/plain": [
       "   sentiments                                               text  \\\n",
       "1         NaN  REGISTRTATION OPEN!! and details posted for \\C...   \n",
       "2         NaN  RT @exl_service: Rohit Kapoor, our Vice Chairm...   \n",
       "3         NaN  Cadre 6 sharing best practices in Science.  We...   \n",
       "4         NaN  Big Data Ethics and 10 Controversial Data Scie...   \n",
       "5         NaN  Our Group Head of Data Science, @sameerrahman9...   \n",
       "\n",
       "                                                user  \n",
       "1   Data &amp; Automation\\\"… https://t.co/IGnqprj...  \n",
       "2                                           vatsalok  \n",
       "3                                         ElemCadre6  \n",
       "4                                       NeXtPlanetRD  \n",
       "5                                        edit_agency  "
      ]
     },
     "execution_count": 70,
     "metadata": {},
     "output_type": "execute_result"
    }
   ],
   "source": [
    "df1.head()"
   ]
  },
  {
   "cell_type": "code",
   "execution_count": 72,
   "metadata": {},
   "outputs": [],
   "source": [
    "df1['len']=[len(t) for t in df1.text]"
   ]
  },
  {
   "cell_type": "code",
   "execution_count": 73,
   "metadata": {},
   "outputs": [
    {
     "data": {
      "text/html": [
       "<div>\n",
       "<style scoped>\n",
       "    .dataframe tbody tr th:only-of-type {\n",
       "        vertical-align: middle;\n",
       "    }\n",
       "\n",
       "    .dataframe tbody tr th {\n",
       "        vertical-align: top;\n",
       "    }\n",
       "\n",
       "    .dataframe thead th {\n",
       "        text-align: right;\n",
       "    }\n",
       "</style>\n",
       "<table border=\"1\" class=\"dataframe\">\n",
       "  <thead>\n",
       "    <tr style=\"text-align: right;\">\n",
       "      <th></th>\n",
       "      <th>sentiments</th>\n",
       "      <th>text</th>\n",
       "      <th>user</th>\n",
       "      <th>len</th>\n",
       "    </tr>\n",
       "  </thead>\n",
       "  <tbody>\n",
       "    <tr>\n",
       "      <th>1</th>\n",
       "      <td>NaN</td>\n",
       "      <td>REGISTRTATION OPEN!! and details posted for \\C...</td>\n",
       "      <td>Data &amp;amp; Automation\\\"… https://t.co/IGnqprj...</td>\n",
       "      <td>95</td>\n",
       "    </tr>\n",
       "    <tr>\n",
       "      <th>2</th>\n",
       "      <td>NaN</td>\n",
       "      <td>RT @exl_service: Rohit Kapoor, our Vice Chairm...</td>\n",
       "      <td>vatsalok</td>\n",
       "      <td>144</td>\n",
       "    </tr>\n",
       "    <tr>\n",
       "      <th>3</th>\n",
       "      <td>NaN</td>\n",
       "      <td>Cadre 6 sharing best practices in Science.  We...</td>\n",
       "      <td>ElemCadre6</td>\n",
       "      <td>91</td>\n",
       "    </tr>\n",
       "    <tr>\n",
       "      <th>4</th>\n",
       "      <td>NaN</td>\n",
       "      <td>Big Data Ethics and 10 Controversial Data Scie...</td>\n",
       "      <td>NeXtPlanetRD</td>\n",
       "      <td>85</td>\n",
       "    </tr>\n",
       "    <tr>\n",
       "      <th>5</th>\n",
       "      <td>NaN</td>\n",
       "      <td>Our Group Head of Data Science, @sameerrahman9...</td>\n",
       "      <td>edit_agency</td>\n",
       "      <td>140</td>\n",
       "    </tr>\n",
       "  </tbody>\n",
       "</table>\n",
       "</div>"
      ],
      "text/plain": [
       "   sentiments                                               text  \\\n",
       "1         NaN  REGISTRTATION OPEN!! and details posted for \\C...   \n",
       "2         NaN  RT @exl_service: Rohit Kapoor, our Vice Chairm...   \n",
       "3         NaN  Cadre 6 sharing best practices in Science.  We...   \n",
       "4         NaN  Big Data Ethics and 10 Controversial Data Scie...   \n",
       "5         NaN  Our Group Head of Data Science, @sameerrahman9...   \n",
       "\n",
       "                                                user  len  \n",
       "1   Data &amp; Automation\\\"… https://t.co/IGnqprj...   95  \n",
       "2                                           vatsalok  144  \n",
       "3                                         ElemCadre6   91  \n",
       "4                                       NeXtPlanetRD   85  \n",
       "5                                        edit_agency  140  "
      ]
     },
     "execution_count": 73,
     "metadata": {},
     "output_type": "execute_result"
    }
   ],
   "source": [
    "df1.head()"
   ]
  },
  {
   "cell_type": "code",
   "execution_count": 75,
   "metadata": {},
   "outputs": [],
   "source": [
    "df1.drop(['user'], axis=1, inplace=True)"
   ]
  },
  {
   "cell_type": "code",
   "execution_count": 77,
   "metadata": {},
   "outputs": [
    {
     "data": {
      "text/html": [
       "<div>\n",
       "<style scoped>\n",
       "    .dataframe tbody tr th:only-of-type {\n",
       "        vertical-align: middle;\n",
       "    }\n",
       "\n",
       "    .dataframe tbody tr th {\n",
       "        vertical-align: top;\n",
       "    }\n",
       "\n",
       "    .dataframe thead th {\n",
       "        text-align: right;\n",
       "    }\n",
       "</style>\n",
       "<table border=\"1\" class=\"dataframe\">\n",
       "  <thead>\n",
       "    <tr style=\"text-align: right;\">\n",
       "      <th></th>\n",
       "      <th>sentiments</th>\n",
       "      <th>text</th>\n",
       "      <th>len</th>\n",
       "    </tr>\n",
       "  </thead>\n",
       "  <tbody>\n",
       "    <tr>\n",
       "      <th>1</th>\n",
       "      <td>NaN</td>\n",
       "      <td>REGISTRTATION OPEN!! and details posted for \\C...</td>\n",
       "      <td>95</td>\n",
       "    </tr>\n",
       "    <tr>\n",
       "      <th>2</th>\n",
       "      <td>NaN</td>\n",
       "      <td>RT @exl_service: Rohit Kapoor, our Vice Chairm...</td>\n",
       "      <td>144</td>\n",
       "    </tr>\n",
       "    <tr>\n",
       "      <th>3</th>\n",
       "      <td>NaN</td>\n",
       "      <td>Cadre 6 sharing best practices in Science.  We...</td>\n",
       "      <td>91</td>\n",
       "    </tr>\n",
       "    <tr>\n",
       "      <th>4</th>\n",
       "      <td>NaN</td>\n",
       "      <td>Big Data Ethics and 10 Controversial Data Scie...</td>\n",
       "      <td>85</td>\n",
       "    </tr>\n",
       "    <tr>\n",
       "      <th>5</th>\n",
       "      <td>NaN</td>\n",
       "      <td>Our Group Head of Data Science, @sameerrahman9...</td>\n",
       "      <td>140</td>\n",
       "    </tr>\n",
       "  </tbody>\n",
       "</table>\n",
       "</div>"
      ],
      "text/plain": [
       "   sentiments                                               text  len\n",
       "1         NaN  REGISTRTATION OPEN!! and details posted for \\C...   95\n",
       "2         NaN  RT @exl_service: Rohit Kapoor, our Vice Chairm...  144\n",
       "3         NaN  Cadre 6 sharing best practices in Science.  We...   91\n",
       "4         NaN  Big Data Ethics and 10 Controversial Data Scie...   85\n",
       "5         NaN  Our Group Head of Data Science, @sameerrahman9...  140"
      ]
     },
     "execution_count": 77,
     "metadata": {},
     "output_type": "execute_result"
    }
   ],
   "source": [
    "df1.head()"
   ]
  },
  {
   "cell_type": "code",
   "execution_count": 78,
   "metadata": {},
   "outputs": [
    {
     "data": {
      "text/html": [
       "<div>\n",
       "<style scoped>\n",
       "    .dataframe tbody tr th:only-of-type {\n",
       "        vertical-align: middle;\n",
       "    }\n",
       "\n",
       "    .dataframe tbody tr th {\n",
       "        vertical-align: top;\n",
       "    }\n",
       "\n",
       "    .dataframe thead th {\n",
       "        text-align: right;\n",
       "    }\n",
       "</style>\n",
       "<table border=\"1\" class=\"dataframe\">\n",
       "  <thead>\n",
       "    <tr style=\"text-align: right;\">\n",
       "      <th></th>\n",
       "      <th>sentiments</th>\n",
       "      <th>text</th>\n",
       "      <th>len</th>\n",
       "    </tr>\n",
       "  </thead>\n",
       "  <tbody>\n",
       "    <tr>\n",
       "      <th>2</th>\n",
       "      <td>NaN</td>\n",
       "      <td>RT @exl_service: Rohit Kapoor, our Vice Chairm...</td>\n",
       "      <td>144</td>\n",
       "    </tr>\n",
       "    <tr>\n",
       "      <th>6</th>\n",
       "      <td>NaN</td>\n",
       "      <td>RT @herhoopstats: Hey followers!  We are still...</td>\n",
       "      <td>142</td>\n",
       "    </tr>\n",
       "    <tr>\n",
       "      <th>10</th>\n",
       "      <td>NaN</td>\n",
       "      <td>RT @herhoopstats: Hey followers!  We are still...</td>\n",
       "      <td>142</td>\n",
       "    </tr>\n",
       "    <tr>\n",
       "      <th>11</th>\n",
       "      <td>NaN</td>\n",
       "      <td>RT @IainLJBrown: Should financial professional...</td>\n",
       "      <td>144</td>\n",
       "    </tr>\n",
       "    <tr>\n",
       "      <th>32</th>\n",
       "      <td>NaN</td>\n",
       "      <td>RT @arjson: Stats /ML/data science friends:\\n\\...</td>\n",
       "      <td>142</td>\n",
       "    </tr>\n",
       "    <tr>\n",
       "      <th>45</th>\n",
       "      <td>NaN</td>\n",
       "      <td>This $29 Business Intelligence bundle will set...</td>\n",
       "      <td>142</td>\n",
       "    </tr>\n",
       "    <tr>\n",
       "      <th>46</th>\n",
       "      <td>NaN</td>\n",
       "      <td>RT @herhoopstats: Hey followers!  We are still...</td>\n",
       "      <td>142</td>\n",
       "    </tr>\n",
       "    <tr>\n",
       "      <th>49</th>\n",
       "      <td>NaN</td>\n",
       "      <td>Hey followers!  We are still looking for more ...</td>\n",
       "      <td>142</td>\n",
       "    </tr>\n",
       "    <tr>\n",
       "      <th>55</th>\n",
       "      <td>NaN</td>\n",
       "      <td>RT @EnergyWaysrl: Today we are in Budapest inv...</td>\n",
       "      <td>144</td>\n",
       "    </tr>\n",
       "    <tr>\n",
       "      <th>57</th>\n",
       "      <td>NaN</td>\n",
       "      <td>RT @Ronald_vanLoon: #Python overtakes R, becom...</td>\n",
       "      <td>143</td>\n",
       "    </tr>\n",
       "  </tbody>\n",
       "</table>\n",
       "</div>"
      ],
      "text/plain": [
       "    sentiments                                               text  len\n",
       "2          NaN  RT @exl_service: Rohit Kapoor, our Vice Chairm...  144\n",
       "6          NaN  RT @herhoopstats: Hey followers!  We are still...  142\n",
       "10         NaN  RT @herhoopstats: Hey followers!  We are still...  142\n",
       "11         NaN  RT @IainLJBrown: Should financial professional...  144\n",
       "32         NaN  RT @arjson: Stats /ML/data science friends:\\n\\...  142\n",
       "45         NaN  This $29 Business Intelligence bundle will set...  142\n",
       "46         NaN  RT @herhoopstats: Hey followers!  We are still...  142\n",
       "49         NaN  Hey followers!  We are still looking for more ...  142\n",
       "55         NaN  RT @EnergyWaysrl: Today we are in Budapest inv...  144\n",
       "57         NaN  RT @Ronald_vanLoon: #Python overtakes R, becom...  143"
      ]
     },
     "execution_count": 78,
     "metadata": {},
     "output_type": "execute_result"
    }
   ],
   "source": [
    "df1[df1.len>140].head(10)"
   ]
  },
  {
   "cell_type": "code",
   "execution_count": 79,
   "metadata": {},
   "outputs": [
    {
     "data": {
      "text/plain": [
       "'RT @EnergyWaysrl: Today we are in Budapest invited by @SEP_EU to present our innovative approach in Data Science &amp; AI solutions to european…'"
      ]
     },
     "execution_count": 79,
     "metadata": {},
     "output_type": "execute_result"
    }
   ],
   "source": [
    "df1.text[55]"
   ]
  },
  {
   "cell_type": "code",
   "execution_count": 80,
   "metadata": {},
   "outputs": [
    {
     "name": "stdout",
     "output_type": "stream",
     "text": [
      "RT @EnergyWaysrl: Today we are in Budapest invited by @SEP_EU to present our innovative approach in Data Science & AI solutions to european…\n"
     ]
    }
   ],
   "source": [
    "from bs4 import BeautifulSoup\n",
    "soup=BeautifulSoup(df1.text[55], 'lxml')\n",
    "print(soup.get_text())"
   ]
  },
  {
   "cell_type": "code",
   "execution_count": 81,
   "metadata": {},
   "outputs": [],
   "source": [
    "import re"
   ]
  },
  {
   "cell_type": "code",
   "execution_count": 83,
   "metadata": {},
   "outputs": [
    {
     "data": {
      "text/plain": [
       "'RTRonaldvanLoonPythonovertakesRbecomestheleaderinDataScienceMachineLearningplatformsnbykdnuggetsnnhttpstcogn'"
      ]
     },
     "execution_count": 83,
     "metadata": {},
     "output_type": "execute_result"
    }
   ],
   "source": [
    "re.sub('[^a-zA-Z]', '', df1.text[57])"
   ]
  },
  {
   "cell_type": "code",
   "execution_count": null,
   "metadata": {},
   "outputs": [],
   "source": []
  }
 ],
 "metadata": {
  "kernelspec": {
   "display_name": "Python 3",
   "language": "python",
   "name": "python3"
  },
  "language_info": {
   "codemirror_mode": {
    "name": "ipython",
    "version": 3
   },
   "file_extension": ".py",
   "mimetype": "text/x-python",
   "name": "python",
   "nbconvert_exporter": "python",
   "pygments_lexer": "ipython3",
   "version": "3.6.5"
  }
 },
 "nbformat": 4,
 "nbformat_minor": 2
}
