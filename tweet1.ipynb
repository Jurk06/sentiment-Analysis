{
 "cells": [
  {
   "cell_type": "code",
   "execution_count": 22,
   "metadata": {},
   "outputs": [],
   "source": [
    "import pandas as pd\n",
    "import numpy as np\n",
    "import nltk\n",
    "from nltk.corpus import stopwords"
   ]
  },
  {
   "cell_type": "code",
   "execution_count": 2,
   "metadata": {},
   "outputs": [],
   "source": [
    "df=pd.read_csv('D:\\\\python\\\\Titanic_ML\\\\twitter\\\\data.csv', sep='\\t',quoting=3 )\n"
   ]
  },
  {
   "cell_type": "code",
   "execution_count": 3,
   "metadata": {},
   "outputs": [
    {
     "data": {
      "text/html": [
       "<div>\n",
       "<style scoped>\n",
       "    .dataframe tbody tr th:only-of-type {\n",
       "        vertical-align: middle;\n",
       "    }\n",
       "\n",
       "    .dataframe tbody tr th {\n",
       "        vertical-align: top;\n",
       "    }\n",
       "\n",
       "    .dataframe thead th {\n",
       "        text-align: right;\n",
       "    }\n",
       "</style>\n",
       "<table border=\"1\" class=\"dataframe\">\n",
       "  <thead>\n",
       "    <tr style=\"text-align: right;\">\n",
       "      <th></th>\n",
       "      <th>sentiment,text,user</th>\n",
       "    </tr>\n",
       "  </thead>\n",
       "  <tbody>\n",
       "    <tr>\n",
       "      <th>0</th>\n",
       "      <td>\"neutral\",\"REGISTRTATION OPEN!! and details po...</td>\n",
       "    </tr>\n",
       "    <tr>\n",
       "      <th>1</th>\n",
       "      <td>\"neutral\",\"RT @exl_service: Rohit Kapoor, our ...</td>\n",
       "    </tr>\n",
       "    <tr>\n",
       "      <th>2</th>\n",
       "      <td>\"positive\",\"Cadre 6 sharing best practices in ...</td>\n",
       "    </tr>\n",
       "    <tr>\n",
       "      <th>3</th>\n",
       "      <td>\"positive\",\"Big Data Ethics and 10 Controversi...</td>\n",
       "    </tr>\n",
       "    <tr>\n",
       "      <th>4</th>\n",
       "      <td>\"neutral\",\"Our Group Head of Data Science, @sa...</td>\n",
       "    </tr>\n",
       "  </tbody>\n",
       "</table>\n",
       "</div>"
      ],
      "text/plain": [
       "                                 sentiment,text,user\n",
       "0  \"neutral\",\"REGISTRTATION OPEN!! and details po...\n",
       "1  \"neutral\",\"RT @exl_service: Rohit Kapoor, our ...\n",
       "2  \"positive\",\"Cadre 6 sharing best practices in ...\n",
       "3  \"positive\",\"Big Data Ethics and 10 Controversi...\n",
       "4  \"neutral\",\"Our Group Head of Data Science, @sa..."
      ]
     },
     "execution_count": 3,
     "metadata": {},
     "output_type": "execute_result"
    }
   ],
   "source": [
    "df.head()"
   ]
  },
  {
   "cell_type": "code",
   "execution_count": 4,
   "metadata": {},
   "outputs": [],
   "source": [
    "cols=['sentiment', 'text', 'user']\n",
    "data=pd.read_csv('D:\\\\python\\\\Titanic_ML\\\\twitter\\\\data.csv',names=cols )\n"
   ]
  },
  {
   "cell_type": "code",
   "execution_count": 5,
   "metadata": {},
   "outputs": [
    {
     "data": {
      "text/html": [
       "<div>\n",
       "<style scoped>\n",
       "    .dataframe tbody tr th:only-of-type {\n",
       "        vertical-align: middle;\n",
       "    }\n",
       "\n",
       "    .dataframe tbody tr th {\n",
       "        vertical-align: top;\n",
       "    }\n",
       "\n",
       "    .dataframe thead th {\n",
       "        text-align: right;\n",
       "    }\n",
       "</style>\n",
       "<table border=\"1\" class=\"dataframe\">\n",
       "  <thead>\n",
       "    <tr style=\"text-align: right;\">\n",
       "      <th></th>\n",
       "      <th>sentiment</th>\n",
       "      <th>text</th>\n",
       "      <th>user</th>\n",
       "    </tr>\n",
       "  </thead>\n",
       "  <tbody>\n",
       "    <tr>\n",
       "      <th>0</th>\n",
       "      <td>sentiment</td>\n",
       "      <td>text</td>\n",
       "      <td>user</td>\n",
       "    </tr>\n",
       "    <tr>\n",
       "      <th>1</th>\n",
       "      <td>neutral</td>\n",
       "      <td>REGISTRTATION OPEN!! and details posted for \\C...</td>\n",
       "      <td>Data &amp;amp; Automation\\\"… https://t.co/IGnqprj...</td>\n",
       "    </tr>\n",
       "    <tr>\n",
       "      <th>2</th>\n",
       "      <td>neutral</td>\n",
       "      <td>RT @exl_service: Rohit Kapoor, our Vice Chairm...</td>\n",
       "      <td>vatsalok</td>\n",
       "    </tr>\n",
       "    <tr>\n",
       "      <th>3</th>\n",
       "      <td>positive</td>\n",
       "      <td>Cadre 6 sharing best practices in Science.  We...</td>\n",
       "      <td>ElemCadre6</td>\n",
       "    </tr>\n",
       "    <tr>\n",
       "      <th>4</th>\n",
       "      <td>positive</td>\n",
       "      <td>Big Data Ethics and 10 Controversial Data Scie...</td>\n",
       "      <td>NeXtPlanetRD</td>\n",
       "    </tr>\n",
       "  </tbody>\n",
       "</table>\n",
       "</div>"
      ],
      "text/plain": [
       "   sentiment                                               text  \\\n",
       "0  sentiment                                               text   \n",
       "1    neutral  REGISTRTATION OPEN!! and details posted for \\C...   \n",
       "2    neutral  RT @exl_service: Rohit Kapoor, our Vice Chairm...   \n",
       "3   positive  Cadre 6 sharing best practices in Science.  We...   \n",
       "4   positive  Big Data Ethics and 10 Controversial Data Scie...   \n",
       "\n",
       "                                                user  \n",
       "0                                               user  \n",
       "1   Data &amp; Automation\\\"… https://t.co/IGnqprj...  \n",
       "2                                           vatsalok  \n",
       "3                                         ElemCadre6  \n",
       "4                                       NeXtPlanetRD  "
      ]
     },
     "execution_count": 5,
     "metadata": {},
     "output_type": "execute_result"
    }
   ],
   "source": [
    "data.head()"
   ]
  },
  {
   "cell_type": "code",
   "execution_count": 6,
   "metadata": {},
   "outputs": [],
   "source": [
    "data.drop(data.index[0], inplace=True)"
   ]
  },
  {
   "cell_type": "code",
   "execution_count": 7,
   "metadata": {},
   "outputs": [
    {
     "data": {
      "text/html": [
       "<div>\n",
       "<style scoped>\n",
       "    .dataframe tbody tr th:only-of-type {\n",
       "        vertical-align: middle;\n",
       "    }\n",
       "\n",
       "    .dataframe tbody tr th {\n",
       "        vertical-align: top;\n",
       "    }\n",
       "\n",
       "    .dataframe thead th {\n",
       "        text-align: right;\n",
       "    }\n",
       "</style>\n",
       "<table border=\"1\" class=\"dataframe\">\n",
       "  <thead>\n",
       "    <tr style=\"text-align: right;\">\n",
       "      <th></th>\n",
       "      <th>sentiment</th>\n",
       "      <th>text</th>\n",
       "      <th>user</th>\n",
       "    </tr>\n",
       "  </thead>\n",
       "  <tbody>\n",
       "    <tr>\n",
       "      <th>1</th>\n",
       "      <td>neutral</td>\n",
       "      <td>REGISTRTATION OPEN!! and details posted for \\C...</td>\n",
       "      <td>Data &amp;amp; Automation\\\"… https://t.co/IGnqprj...</td>\n",
       "    </tr>\n",
       "    <tr>\n",
       "      <th>2</th>\n",
       "      <td>neutral</td>\n",
       "      <td>RT @exl_service: Rohit Kapoor, our Vice Chairm...</td>\n",
       "      <td>vatsalok</td>\n",
       "    </tr>\n",
       "    <tr>\n",
       "      <th>3</th>\n",
       "      <td>positive</td>\n",
       "      <td>Cadre 6 sharing best practices in Science.  We...</td>\n",
       "      <td>ElemCadre6</td>\n",
       "    </tr>\n",
       "    <tr>\n",
       "      <th>4</th>\n",
       "      <td>positive</td>\n",
       "      <td>Big Data Ethics and 10 Controversial Data Scie...</td>\n",
       "      <td>NeXtPlanetRD</td>\n",
       "    </tr>\n",
       "    <tr>\n",
       "      <th>5</th>\n",
       "      <td>neutral</td>\n",
       "      <td>Our Group Head of Data Science, @sameerrahman9...</td>\n",
       "      <td>edit_agency</td>\n",
       "    </tr>\n",
       "  </tbody>\n",
       "</table>\n",
       "</div>"
      ],
      "text/plain": [
       "  sentiment                                               text  \\\n",
       "1   neutral  REGISTRTATION OPEN!! and details posted for \\C...   \n",
       "2   neutral  RT @exl_service: Rohit Kapoor, our Vice Chairm...   \n",
       "3  positive  Cadre 6 sharing best practices in Science.  We...   \n",
       "4  positive  Big Data Ethics and 10 Controversial Data Scie...   \n",
       "5   neutral  Our Group Head of Data Science, @sameerrahman9...   \n",
       "\n",
       "                                                user  \n",
       "1   Data &amp; Automation\\\"… https://t.co/IGnqprj...  \n",
       "2                                           vatsalok  \n",
       "3                                         ElemCadre6  \n",
       "4                                       NeXtPlanetRD  \n",
       "5                                        edit_agency  "
      ]
     },
     "execution_count": 7,
     "metadata": {},
     "output_type": "execute_result"
    }
   ],
   "source": [
    "data.head()"
   ]
  },
  {
   "cell_type": "code",
   "execution_count": 8,
   "metadata": {},
   "outputs": [
    {
     "data": {
      "text/plain": [
       "(100, 3)"
      ]
     },
     "execution_count": 8,
     "metadata": {},
     "output_type": "execute_result"
    }
   ],
   "source": [
    "data.shape"
   ]
  },
  {
   "cell_type": "code",
   "execution_count": 9,
   "metadata": {},
   "outputs": [
    {
     "data": {
      "text/plain": [
       "neutral     48\n",
       "positive    45\n",
       "negative     7\n",
       "Name: sentiment, dtype: int64"
      ]
     },
     "execution_count": 9,
     "metadata": {},
     "output_type": "execute_result"
    }
   ],
   "source": [
    "data.sentiment.value_counts()"
   ]
  },
  {
   "cell_type": "code",
   "execution_count": 10,
   "metadata": {},
   "outputs": [],
   "source": [
    "map_sentiment={'neutral':0, 'positive':1, 'negative':-1}\n",
    "data['sentiment']=data['sentiment'].map(map_sentiment)"
   ]
  },
  {
   "cell_type": "code",
   "execution_count": 11,
   "metadata": {},
   "outputs": [
    {
     "data": {
      "text/html": [
       "<div>\n",
       "<style scoped>\n",
       "    .dataframe tbody tr th:only-of-type {\n",
       "        vertical-align: middle;\n",
       "    }\n",
       "\n",
       "    .dataframe tbody tr th {\n",
       "        vertical-align: top;\n",
       "    }\n",
       "\n",
       "    .dataframe thead th {\n",
       "        text-align: right;\n",
       "    }\n",
       "</style>\n",
       "<table border=\"1\" class=\"dataframe\">\n",
       "  <thead>\n",
       "    <tr style=\"text-align: right;\">\n",
       "      <th></th>\n",
       "      <th>sentiment</th>\n",
       "      <th>text</th>\n",
       "      <th>user</th>\n",
       "    </tr>\n",
       "  </thead>\n",
       "  <tbody>\n",
       "    <tr>\n",
       "      <th>1</th>\n",
       "      <td>0</td>\n",
       "      <td>REGISTRTATION OPEN!! and details posted for \\C...</td>\n",
       "      <td>Data &amp;amp; Automation\\\"… https://t.co/IGnqprj...</td>\n",
       "    </tr>\n",
       "    <tr>\n",
       "      <th>2</th>\n",
       "      <td>0</td>\n",
       "      <td>RT @exl_service: Rohit Kapoor, our Vice Chairm...</td>\n",
       "      <td>vatsalok</td>\n",
       "    </tr>\n",
       "    <tr>\n",
       "      <th>3</th>\n",
       "      <td>1</td>\n",
       "      <td>Cadre 6 sharing best practices in Science.  We...</td>\n",
       "      <td>ElemCadre6</td>\n",
       "    </tr>\n",
       "    <tr>\n",
       "      <th>4</th>\n",
       "      <td>1</td>\n",
       "      <td>Big Data Ethics and 10 Controversial Data Scie...</td>\n",
       "      <td>NeXtPlanetRD</td>\n",
       "    </tr>\n",
       "    <tr>\n",
       "      <th>5</th>\n",
       "      <td>0</td>\n",
       "      <td>Our Group Head of Data Science, @sameerrahman9...</td>\n",
       "      <td>edit_agency</td>\n",
       "    </tr>\n",
       "    <tr>\n",
       "      <th>6</th>\n",
       "      <td>1</td>\n",
       "      <td>RT @herhoopstats: Hey followers!  We are still...</td>\n",
       "      <td>cmcasarez</td>\n",
       "    </tr>\n",
       "    <tr>\n",
       "      <th>7</th>\n",
       "      <td>1</td>\n",
       "      <td>RT @waltatek: @SSERCDigital Keep your eye on t...</td>\n",
       "      <td>DerekHouston20</td>\n",
       "    </tr>\n",
       "    <tr>\n",
       "      <th>8</th>\n",
       "      <td>1</td>\n",
       "      <td>RT @Urban_RG: A fun conversation with @aloktay...</td>\n",
       "      <td>chelsbells4</td>\n",
       "    </tr>\n",
       "    <tr>\n",
       "      <th>9</th>\n",
       "      <td>-1</td>\n",
       "      <td>Today I had the opportunity to ask our Ministe...</td>\n",
       "      <td>Hargunie</td>\n",
       "    </tr>\n",
       "    <tr>\n",
       "      <th>10</th>\n",
       "      <td>1</td>\n",
       "      <td>RT @herhoopstats: Hey followers!  We are still...</td>\n",
       "      <td>LaChinaRobinson</td>\n",
       "    </tr>\n",
       "  </tbody>\n",
       "</table>\n",
       "</div>"
      ],
      "text/plain": [
       "    sentiment                                               text  \\\n",
       "1           0  REGISTRTATION OPEN!! and details posted for \\C...   \n",
       "2           0  RT @exl_service: Rohit Kapoor, our Vice Chairm...   \n",
       "3           1  Cadre 6 sharing best practices in Science.  We...   \n",
       "4           1  Big Data Ethics and 10 Controversial Data Scie...   \n",
       "5           0  Our Group Head of Data Science, @sameerrahman9...   \n",
       "6           1  RT @herhoopstats: Hey followers!  We are still...   \n",
       "7           1  RT @waltatek: @SSERCDigital Keep your eye on t...   \n",
       "8           1  RT @Urban_RG: A fun conversation with @aloktay...   \n",
       "9          -1  Today I had the opportunity to ask our Ministe...   \n",
       "10          1  RT @herhoopstats: Hey followers!  We are still...   \n",
       "\n",
       "                                                 user  \n",
       "1    Data &amp; Automation\\\"… https://t.co/IGnqprj...  \n",
       "2                                            vatsalok  \n",
       "3                                          ElemCadre6  \n",
       "4                                        NeXtPlanetRD  \n",
       "5                                         edit_agency  \n",
       "6                                           cmcasarez  \n",
       "7                                      DerekHouston20  \n",
       "8                                         chelsbells4  \n",
       "9                                            Hargunie  \n",
       "10                                    LaChinaRobinson  "
      ]
     },
     "execution_count": 11,
     "metadata": {},
     "output_type": "execute_result"
    }
   ],
   "source": [
    "data.head(10)"
   ]
  },
  {
   "cell_type": "code",
   "execution_count": 12,
   "metadata": {},
   "outputs": [],
   "source": [
    "data['lenghth_text']=[len(t) for t in data.text]"
   ]
  },
  {
   "cell_type": "code",
   "execution_count": 13,
   "metadata": {},
   "outputs": [
    {
     "data": {
      "text/html": [
       "<div>\n",
       "<style scoped>\n",
       "    .dataframe tbody tr th:only-of-type {\n",
       "        vertical-align: middle;\n",
       "    }\n",
       "\n",
       "    .dataframe tbody tr th {\n",
       "        vertical-align: top;\n",
       "    }\n",
       "\n",
       "    .dataframe thead th {\n",
       "        text-align: right;\n",
       "    }\n",
       "</style>\n",
       "<table border=\"1\" class=\"dataframe\">\n",
       "  <thead>\n",
       "    <tr style=\"text-align: right;\">\n",
       "      <th></th>\n",
       "      <th>sentiment</th>\n",
       "      <th>text</th>\n",
       "      <th>user</th>\n",
       "      <th>lenghth_text</th>\n",
       "    </tr>\n",
       "  </thead>\n",
       "  <tbody>\n",
       "    <tr>\n",
       "      <th>1</th>\n",
       "      <td>0</td>\n",
       "      <td>REGISTRTATION OPEN!! and details posted for \\C...</td>\n",
       "      <td>Data &amp;amp; Automation\\\"… https://t.co/IGnqprj...</td>\n",
       "      <td>95</td>\n",
       "    </tr>\n",
       "    <tr>\n",
       "      <th>2</th>\n",
       "      <td>0</td>\n",
       "      <td>RT @exl_service: Rohit Kapoor, our Vice Chairm...</td>\n",
       "      <td>vatsalok</td>\n",
       "      <td>144</td>\n",
       "    </tr>\n",
       "    <tr>\n",
       "      <th>3</th>\n",
       "      <td>1</td>\n",
       "      <td>Cadre 6 sharing best practices in Science.  We...</td>\n",
       "      <td>ElemCadre6</td>\n",
       "      <td>91</td>\n",
       "    </tr>\n",
       "    <tr>\n",
       "      <th>4</th>\n",
       "      <td>1</td>\n",
       "      <td>Big Data Ethics and 10 Controversial Data Scie...</td>\n",
       "      <td>NeXtPlanetRD</td>\n",
       "      <td>85</td>\n",
       "    </tr>\n",
       "    <tr>\n",
       "      <th>5</th>\n",
       "      <td>0</td>\n",
       "      <td>Our Group Head of Data Science, @sameerrahman9...</td>\n",
       "      <td>edit_agency</td>\n",
       "      <td>140</td>\n",
       "    </tr>\n",
       "  </tbody>\n",
       "</table>\n",
       "</div>"
      ],
      "text/plain": [
       "   sentiment                                               text  \\\n",
       "1          0  REGISTRTATION OPEN!! and details posted for \\C...   \n",
       "2          0  RT @exl_service: Rohit Kapoor, our Vice Chairm...   \n",
       "3          1  Cadre 6 sharing best practices in Science.  We...   \n",
       "4          1  Big Data Ethics and 10 Controversial Data Scie...   \n",
       "5          0  Our Group Head of Data Science, @sameerrahman9...   \n",
       "\n",
       "                                                user  lenghth_text  \n",
       "1   Data &amp; Automation\\\"… https://t.co/IGnqprj...            95  \n",
       "2                                           vatsalok           144  \n",
       "3                                         ElemCadre6            91  \n",
       "4                                       NeXtPlanetRD            85  \n",
       "5                                        edit_agency           140  "
      ]
     },
     "execution_count": 13,
     "metadata": {},
     "output_type": "execute_result"
    }
   ],
   "source": [
    "data.head()"
   ]
  },
  {
   "cell_type": "code",
   "execution_count": 15,
   "metadata": {},
   "outputs": [],
   "source": [
    "data.drop(['user'],axis=1, inplace=True)"
   ]
  },
  {
   "cell_type": "code",
   "execution_count": 16,
   "metadata": {},
   "outputs": [
    {
     "data": {
      "text/html": [
       "<div>\n",
       "<style scoped>\n",
       "    .dataframe tbody tr th:only-of-type {\n",
       "        vertical-align: middle;\n",
       "    }\n",
       "\n",
       "    .dataframe tbody tr th {\n",
       "        vertical-align: top;\n",
       "    }\n",
       "\n",
       "    .dataframe thead th {\n",
       "        text-align: right;\n",
       "    }\n",
       "</style>\n",
       "<table border=\"1\" class=\"dataframe\">\n",
       "  <thead>\n",
       "    <tr style=\"text-align: right;\">\n",
       "      <th></th>\n",
       "      <th>sentiment</th>\n",
       "      <th>text</th>\n",
       "      <th>lenghth_text</th>\n",
       "    </tr>\n",
       "  </thead>\n",
       "  <tbody>\n",
       "    <tr>\n",
       "      <th>1</th>\n",
       "      <td>0</td>\n",
       "      <td>REGISTRTATION OPEN!! and details posted for \\C...</td>\n",
       "      <td>95</td>\n",
       "    </tr>\n",
       "    <tr>\n",
       "      <th>2</th>\n",
       "      <td>0</td>\n",
       "      <td>RT @exl_service: Rohit Kapoor, our Vice Chairm...</td>\n",
       "      <td>144</td>\n",
       "    </tr>\n",
       "    <tr>\n",
       "      <th>3</th>\n",
       "      <td>1</td>\n",
       "      <td>Cadre 6 sharing best practices in Science.  We...</td>\n",
       "      <td>91</td>\n",
       "    </tr>\n",
       "    <tr>\n",
       "      <th>4</th>\n",
       "      <td>1</td>\n",
       "      <td>Big Data Ethics and 10 Controversial Data Scie...</td>\n",
       "      <td>85</td>\n",
       "    </tr>\n",
       "    <tr>\n",
       "      <th>5</th>\n",
       "      <td>0</td>\n",
       "      <td>Our Group Head of Data Science, @sameerrahman9...</td>\n",
       "      <td>140</td>\n",
       "    </tr>\n",
       "  </tbody>\n",
       "</table>\n",
       "</div>"
      ],
      "text/plain": [
       "   sentiment                                               text  lenghth_text\n",
       "1          0  REGISTRTATION OPEN!! and details posted for \\C...            95\n",
       "2          0  RT @exl_service: Rohit Kapoor, our Vice Chairm...           144\n",
       "3          1  Cadre 6 sharing best practices in Science.  We...            91\n",
       "4          1  Big Data Ethics and 10 Controversial Data Scie...            85\n",
       "5          0  Our Group Head of Data Science, @sameerrahman9...           140"
      ]
     },
     "execution_count": 16,
     "metadata": {},
     "output_type": "execute_result"
    }
   ],
   "source": [
    "data.head()"
   ]
  },
  {
   "cell_type": "code",
   "execution_count": 18,
   "metadata": {},
   "outputs": [
    {
     "data": {
      "text/html": [
       "<div>\n",
       "<style scoped>\n",
       "    .dataframe tbody tr th:only-of-type {\n",
       "        vertical-align: middle;\n",
       "    }\n",
       "\n",
       "    .dataframe tbody tr th {\n",
       "        vertical-align: top;\n",
       "    }\n",
       "\n",
       "    .dataframe thead th {\n",
       "        text-align: right;\n",
       "    }\n",
       "</style>\n",
       "<table border=\"1\" class=\"dataframe\">\n",
       "  <thead>\n",
       "    <tr style=\"text-align: right;\">\n",
       "      <th></th>\n",
       "      <th>sentiment</th>\n",
       "      <th>text</th>\n",
       "      <th>lenghth_text</th>\n",
       "    </tr>\n",
       "  </thead>\n",
       "  <tbody>\n",
       "    <tr>\n",
       "      <th>2</th>\n",
       "      <td>0</td>\n",
       "      <td>RT @exl_service: Rohit Kapoor, our Vice Chairm...</td>\n",
       "      <td>144</td>\n",
       "    </tr>\n",
       "    <tr>\n",
       "      <th>6</th>\n",
       "      <td>1</td>\n",
       "      <td>RT @herhoopstats: Hey followers!  We are still...</td>\n",
       "      <td>142</td>\n",
       "    </tr>\n",
       "    <tr>\n",
       "      <th>10</th>\n",
       "      <td>1</td>\n",
       "      <td>RT @herhoopstats: Hey followers!  We are still...</td>\n",
       "      <td>142</td>\n",
       "    </tr>\n",
       "    <tr>\n",
       "      <th>11</th>\n",
       "      <td>1</td>\n",
       "      <td>RT @IainLJBrown: Should financial professional...</td>\n",
       "      <td>144</td>\n",
       "    </tr>\n",
       "    <tr>\n",
       "      <th>32</th>\n",
       "      <td>1</td>\n",
       "      <td>RT @arjson: Stats /ML/data science friends:\\n\\...</td>\n",
       "      <td>142</td>\n",
       "    </tr>\n",
       "    <tr>\n",
       "      <th>45</th>\n",
       "      <td>1</td>\n",
       "      <td>This $29 Business Intelligence bundle will set...</td>\n",
       "      <td>142</td>\n",
       "    </tr>\n",
       "    <tr>\n",
       "      <th>46</th>\n",
       "      <td>1</td>\n",
       "      <td>RT @herhoopstats: Hey followers!  We are still...</td>\n",
       "      <td>142</td>\n",
       "    </tr>\n",
       "    <tr>\n",
       "      <th>49</th>\n",
       "      <td>1</td>\n",
       "      <td>Hey followers!  We are still looking for more ...</td>\n",
       "      <td>142</td>\n",
       "    </tr>\n",
       "    <tr>\n",
       "      <th>55</th>\n",
       "      <td>1</td>\n",
       "      <td>RT @EnergyWaysrl: Today we are in Budapest inv...</td>\n",
       "      <td>144</td>\n",
       "    </tr>\n",
       "    <tr>\n",
       "      <th>57</th>\n",
       "      <td>0</td>\n",
       "      <td>RT @Ronald_vanLoon: #Python overtakes R, becom...</td>\n",
       "      <td>143</td>\n",
       "    </tr>\n",
       "  </tbody>\n",
       "</table>\n",
       "</div>"
      ],
      "text/plain": [
       "    sentiment                                               text  lenghth_text\n",
       "2           0  RT @exl_service: Rohit Kapoor, our Vice Chairm...           144\n",
       "6           1  RT @herhoopstats: Hey followers!  We are still...           142\n",
       "10          1  RT @herhoopstats: Hey followers!  We are still...           142\n",
       "11          1  RT @IainLJBrown: Should financial professional...           144\n",
       "32          1  RT @arjson: Stats /ML/data science friends:\\n\\...           142\n",
       "45          1  This $29 Business Intelligence bundle will set...           142\n",
       "46          1  RT @herhoopstats: Hey followers!  We are still...           142\n",
       "49          1  Hey followers!  We are still looking for more ...           142\n",
       "55          1  RT @EnergyWaysrl: Today we are in Budapest inv...           144\n",
       "57          0  RT @Ronald_vanLoon: #Python overtakes R, becom...           143"
      ]
     },
     "execution_count": 18,
     "metadata": {},
     "output_type": "execute_result"
    }
   ],
   "source": [
    "data[data['lenghth_text']>140].head(10)"
   ]
  },
  {
   "cell_type": "code",
   "execution_count": 19,
   "metadata": {},
   "outputs": [
    {
     "data": {
      "text/plain": [
       "\"RT @arjson: Stats /ML/data science friends:\\\\n\\\\nI'm expecting to graduate with a biostatistics PhD in summer 2019 and searching for a full tim…\""
      ]
     },
     "execution_count": 19,
     "metadata": {},
     "output_type": "execute_result"
    }
   ],
   "source": [
    "data.text[32]"
   ]
  },
  {
   "cell_type": "code",
   "execution_count": 25,
   "metadata": {},
   "outputs": [
    {
     "name": "stdout",
     "output_type": "stream",
     "text": [
      "RT @arjson: Stats /ML/data science friends:\\n\\nI'm expecting to graduate with a biostatistics PhD in summer 2019 and searching for a full tim…\n"
     ]
    }
   ],
   "source": [
    "from bs4 import BeautifulSoup\n",
    "soup=BeautifulSoup(data.text[32], 'lxml')\n",
    "print(soup.get_text())\n"
   ]
  },
  {
   "cell_type": "code",
   "execution_count": 26,
   "metadata": {},
   "outputs": [],
   "source": [
    "import re"
   ]
  },
  {
   "cell_type": "code",
   "execution_count": 28,
   "metadata": {},
   "outputs": [
    {
     "data": {
      "text/plain": [
       "'RT  Ronald vanLoon   Python overtakes R  becomes the leader in  DataScience   MachineLearning platforms n by  kdnuggets   n nhttps   t co  gn  '"
      ]
     },
     "execution_count": 28,
     "metadata": {},
     "output_type": "execute_result"
    }
   ],
   "source": [
    "re.sub('[^a-zA-Z]', ' ', data.text[57])"
   ]
  },
  {
   "cell_type": "code",
   "execution_count": 35,
   "metadata": {},
   "outputs": [],
   "source": [
    "import matplotlib.pyplot as plt\n",
    "import seaborn as sns\n",
    "sns.set(style='darkgrid')"
   ]
  },
  {
   "cell_type": "code",
   "execution_count": 36,
   "metadata": {},
   "outputs": [
    {
     "data": {
      "image/png": "[encoded data removed]",
      "text/plain": [
       "<Figure size 360x360 with 1 Axes>"
      ]
     },
     "metadata": {},
     "output_type": "display_data"
    }
   ],
   "source": [
    "fig, ax=plt.subplots(figsize=(5,5))\n",
    "plt.boxplot(data['lenghth_text'])\n",
    "plt.show()"
   ]
  },
  {
   "cell_type": "code",
   "execution_count": 39,
   "metadata": {},
   "outputs": [
    {
     "data": {
      "text/plain": [
       "'https://t.co/qbSHeeUltK Kurs: Geo.BigData(Science) 6. - 8. März 2019, ETHZ | In diesem Kurs beleuchten wir die Roll… https://t.co/DoJ4iIdko0'"
      ]
     },
     "execution_count": 39,
     "metadata": {},
     "output_type": "execute_result"
    }
   ],
   "source": [
    "data.text[78]"
   ]
  },
  {
   "cell_type": "code",
   "execution_count": 40,
   "metadata": {},
   "outputs": [
    {
     "data": {
      "text/plain": [
       "' Kurs: Geo.BigData(Science) 6. - 8. März 2019, ETHZ | In diesem Kurs beleuchten wir die Roll… '"
      ]
     },
     "execution_count": 40,
     "metadata": {},
     "output_type": "execute_result"
    }
   ],
   "source": [
    "re.sub('https?://[A-Za-z0-9./]+', '', data.text[78])"
   ]
  },
  {
   "cell_type": "code",
   "execution_count": 42,
   "metadata": {},
   "outputs": [],
   "source": [
    "from nltk.tokenize import WordPunctTokenizer\n",
    "tok=WordPunctTokenizer()\n",
    "part1=r'@[A-Za-z0-9]+'\n",
    "part2=r'https?://[A-Za-z0-9./]+'\n",
    "combined_part=r'|'.join((part1, part2))\n"
   ]
  },
  {
   "cell_type": "code",
   "execution_count": 45,
   "metadata": {},
   "outputs": [
    {
     "data": {
      "text/plain": [
       "['registrtationopenanddetailspostedforcomplexityintransporationscienceconnectivity',\n",
       " 'rtexlservicerohitkapoorourvicechairmanceohighlightsthethreefocusareasforbpmindustryreskillingrebrandingofind',\n",
       " 'cadresharingbestpracticesinsciencewearedrivenbydatahttpstconsqftmxzxw',\n",
       " 'bigdataethicsandcontroversialdatascienceexperimentshttpstcocviluehemx',\n",
       " 'ourgroupheadofdatasciencesameerrahmanrecentlyspokewithsitkawalesfortheirmarketingleadershipserihttpstcozfzjzfjj',\n",
       " 'rtherhoopstatsheyfollowerswearestilllookingformorevolunteersfortheupcomingncaaseasonnnifyouorsomeoneyouknowwoul',\n",
       " 'rtwaltatekssercdigitalkeepyoureyeonthisexcitingsqadevelopmentsqacomputingdatascienceforschoolshttpstcounrcnouqic',\n",
       " 'rturbanrgafunconversationwithaloktayiandhistetrascienceteamonscalinghealthcareinvestmentsgloballyalongwiththeeve',\n",
       " 'todayihadtheopportunitytoaskourministeradifficultqtheagencyisbasedinsciencerelyingondataandhttpstcofjfisggit',\n",
       " 'rtherhoopstatsheyfollowerswearestilllookingformorevolunteersfortheupcomingncaaseasonnnifyouorsomeoneyouknowwoul',\n",
       " 'rtiainljbrownshouldfinancialprofessionalslearndatasciencennreadmoreherehttpstconbtrgjfnndatasciencemachinelearning',\n",
       " 'shouldfinancialprofessionalslearndatasciencehttpstcoswadzrhhnnfollowustechnewstechhttpstcoruwohof',\n",
       " 'rtmgoeminnedatasciencetransformationbeforevsnoworthedemocratizationofdataandtechnologyinanexcellentkeynotebymainak',\n",
       " 'rtpobenergyaccordingtonewnasadatahumanshaveliterallyknockedplanetearthoffbalancehttpstcoflrgzvahttpstcobdi',\n",
       " 'shouldfinancialprofessionalslearndatasciencennreadmoreherehttpstconbtrgjfnndatasciencehttpstcordmkadm',\n",
       " 'rtunnitallmanmachinelearningisabranchofcomputersciencethatinsteadofapplyinghighlevelalgorithmstosolveproblemsinexpl',\n",
       " 'rtkdnuggetsessentialmathfordatasciencewhyandhowhttpstcohavvwvgfwhttpstcogqxctxaa',\n",
       " 'tangomitteckelchigeorgedemolicarusgordonrearrogtallblokealanpoirierjamesdehttpstcoxebghmpty',\n",
       " 'rtpobenergyaccordingtonewnasadatahumanshaveliterallyknockedplanetearthoffbalancehttpstcoflrgzvahttpstcobdi',\n",
       " 'rtkdnuggetsawinninggameplanforbuildingyourdatascienceteamhttpstconcfodthttpstcopjzyyg',\n",
       " 'accordingtonewnasadatahumanshaveliterallyknockedplanetearthoffbalancehttpstcoflrgzvahttpstcobdidcbisl',\n",
       " 'howisuxmeasuredthisiswheredatasciencecomesinwithmetricsnnproducttanknairobiproducttanknrbhttpstcohkwmvcmmrl',\n",
       " 'rtmostlybitcoinchristiansciencemonitoraidprogramsusethesamedatatrackingtechnologyasbitcoinhttpstcorhwetudhttps',\n",
       " 'rtxalfeedchristiansciencemonitorallstoriesaidprogramsusethesamedatatrackingtechnologyasbitcoinhttpstcoqdokplz',\n",
       " 'rtcodatanewsitannoysmejustnowalotofthesedatascienceanddataanalyticsprograms',\n",
       " 'rtmsftimagineinterestedinadatasciencecareerlearnnumpysoyoucanperformlargecalculationswithasinglelineofcodehttps',\n",
       " 'rtddnanasparkfordatasciencecookbookhttpstcotteliemv',\n",
       " 'afunconversationwithaloktayiandhistetrascienceteamonscalinghealthcareinvestmentsgloballyalongwihttpstcoxnglybjzm',\n",
       " 'rtshareinsightswithshareinsightsmodelmanagementfeaturesnodatascienceexperienceisneededtouseanalyticmodeltogatherin',\n",
       " 'rtstefanopulitihereistheactualpaperpresentedforestsatonusingacombinationoffielduavandesaeosentineldatafor',\n",
       " 'wanttoknowmoreononhowtouseuavphotogrammetricdataforforestinventorywithoutanydtmcheckoutthehttpstcosdtrfasimc',\n",
       " 'rtarjsonstatsmldatasciencefriendsnnimexpectingtograduatewithabiostatisticsphdinsummerandsearchingforafulltim',\n",
       " 'rtadamrutherfordfryrsquaredourworldscollideyetagainwhengaltonfirstcoinedregressionasanewtechniquequotethisnewtech',\n",
       " 'httpstcotgvtjcpmfpythonshouldfinancialprofessionalslearndatasciencecityamhttpstcozmfdgrqmdv',\n",
       " 'fantasticexplanationofdatasciencefornonexpertshttpstcokzkidceae',\n",
       " 'introducingdatasciencebigdatamachinelearningandmoreusingpythontoolshttpstcomqngycl',\n",
       " 'pythonintroductiontodatasciencehttpstcowluhugqzhttpstcooszlaste',\n",
       " 'rtnstrategythebasicbuildingblocksofwhatyoucandowithdatascienceboilsdowntothingsclassificationregressiondecisio',\n",
       " 'rtridderjeroenbycomparingdatafromcountries',\n",
       " 'shouldfinancialprofessionalslearndatasciencehttpstcodzyoggdatascienceaihttpstcoxkisgpnnt',\n",
       " 'rtkdnuggetsessentialmathfordatasciencewhyandhowhttpstcohavvwvgfwhttpstcogqxctxaa',\n",
       " 'rtetsinfupvjornadasdatascienceforsocialgoodhttpstcoybpouyurakhttpstcobowlibw',\n",
       " 'rtmsftimagineinterestedinadatasciencecareerlearnnumpysoyoucanperformlargecalculationswithasinglelineofcodehttps',\n",
       " 'datascienceforthemoderndataarchitecturehttpstcojptyq',\n",
       " 'thisbusinessintelligencebundlewillsetyouuptosucceedbycalehuntnnbeingsuccessfulinthecorporatesehttpstcoziuqepb',\n",
       " 'rtherhoopstatsheyfollowerswearestilllookingformorevolunteersfortheupcomingncaaseasonnnifyouorsomeoneyouknowwoul',\n",
       " 'johnsumsercrossingthebigdatadatascienceanalyticschasmnotthatdifficultyoullneedateamwillingtohttpstcohdtfj',\n",
       " 'sparkfordatasciencecookbookhttpstcotteliemv',\n",
       " 'heyfollowerswearestilllookingformorevolunteersfortheupcomingncaaseasonnnifyouorsomeoneyouknowhttpstcormopmenbso',\n",
       " 'datascienceforthemoderndataarchitecturehttpstcogqwijayz',\n",
       " 'howbigdataischangingsciencemosaicsciencehttpstcorxwwxej',\n",
       " 'rtkirkdbornetutorialsdatasciencesimplifiedinpartsregressionclassificationmodelselectionvalidationgeneralization',\n",
       " 'rtmsftimagineinterestedinadatasciencecareerlearnnumpysoyoucanperformlargecalculationswithasinglelineofcodehttps',\n",
       " 'rtsuntimesobitsripphysicistleonledermanwhodescribedthethrillofscienceitsinthemorningyourelookingatthedata',\n",
       " 'rtenergywaysrltodayweareinbudapestinvitedbysepeutopresentourinnovativeapproachindatascienceaisolutionstoeuropean',\n",
       " 'seeourlatestharryhinesblvddallasjobandclicktoapplypopulationsciencedataanalystiibehavorialhttpstcocfslqgnuf',\n",
       " 'rtronaldvanloonpythonovertakesrbecomestheleaderindatasciencemachinelearningplatformsnbykdnuggetsnnhttpstcogn',\n",
       " 'hereistheactualpaperpresentedforestsatonusingacombinationoffielduavandesaeosentineldathttpstcoadbjgfjy',\n",
       " 'natesilverdoesthisessentialcertaintycomefromyourdatasciencebackgroundorjustlikeafeelsortofthing',\n",
       " 'checkingoutlotsoffreeopensourcedatasetstomakeyouraibetterondatasciencecentralhttpstconkpknj',\n",
       " 'rtearthcubeareyoufiredupaboutenablinggeosciencediscoveriesthroughdevelopingneworenhanceddatainfrastructureandworkflow',\n",
       " 'rtsatijalabwowrandallplattlabusescrisprspaceracquisitiontorecordandstoreacellstranscriptionalhistoryasdnaseemsl',\n",
       " 'rtdebbiediscoversapplyingdatasciencetocustomerservicechatbotsartemerrittmediumhttpstcoltvlidgnzg',\n",
       " 'rtcomendadormbfoptimiselaunchesinternshipprogramfordatasciencegraduateshttpstcojkntzdatasciencebigdatadataai',\n",
       " 'jerbivoreandiknowpeoplealreadydothingslikethisiveseeneffortstoevaluatestatisticalmethodsinsocihttpstcoevkljbuvn',\n",
       " 'rtkdnuggetsessentialmathfordatasciencewhyandhowhttpstcohavvwvgfwhttpstcogqxctxaa',\n",
       " 'doingdatascienceakagglewalkthroughcleaningdatakdnuggetshttpstcooeumnkzxdatacleaninghttpstcoecpcytrum',\n",
       " 'withaconstantlysinkingrateofloyaltyofcustomersitstimetorethinkthestrategyanimportanttooltodhttpstcoyulqtiome',\n",
       " 'rtalgosjoniinthenittygrittyofusingtheunglobalplatformmethodsanddevelopersservicesourdatascienceapprenticejoepeskett',\n",
       " 'rtcenterdatadromenovereengoedpensioenorigamiendatasciencedatisdetitelvandeinaugureleredediemarikeknoefhooglera',\n",
       " 'rtcomendadormbfoptimiselaunchesinternshipprogramfordatasciencegraduateshttpstcojkntzdatasciencebigdatadataai',\n",
       " 'reasonswhyyoushouldusecrossvalidationinyourdatascienceprojectshttpstcovsjiyckoom',\n",
       " 'unserdatacentersciencecenterbereitetkomplexethemensofrsieaufdasssieleichtzuverstehensindhttpstcoalspuvftcq',\n",
       " 'rtiainljbrownequifaxjoinswithmanipaltoevangelizedatascienceinindiannreadmoreherehttpstcobkfsteotonndatasciencemac',\n",
       " 'hereisthecompanionarticleonthepreclinicaldataforlillydiabetesglpgipcoagonistlymolmetabhttpstconackfyqoj',\n",
       " 'christiansciencemonitorallstoriesaidprogramsusethesamedatatrackingtechnologyasbitcoinhttpstcoqdokplz',\n",
       " 'rtiainljbrowntravelappealaddsminfundingtobringitsdatasciencesaucetomoretravelbusinessesnnreadmoreherehttpstco',\n",
       " 'httpstcoqbsheeultkkursgeobigdatasciencemrzethzindiesemkursbeleuchtenwirdierollhttpstcodojiidko',\n",
       " 'crossingthebigdatadatascienceanalyticschasmhttpstcotmvnfvxck',\n",
       " 'datascienceandshippingmaritimetrendsthatmatterinnnhttpstcojramahbmhttpstcosmxmodvy',\n",
       " 'rtantgrassodatascienceisnotasingledisciplinebutacraftattheintersectionofmanydeconstructingdatasciencelinkhttp',\n",
       " 'rtdrobtheoreticalmathknowalotaboutspecificfieldnnappliedmathknowalittleaboutmanyfieldsnndatascienceknowwhentouse',\n",
       " 'rttheofficialporpsurelywecouldfilleverypublicofficeinthecountrywithpeoplewhohaventbeeninvolvedinfinancialfraudhav',\n",
       " 'kazanovakddcourserahowtowinhttpstcockfulfwd',\n",
       " 'rtthousandwrecksiwroteaboutdesigningscienceforacasualaudienceonmediumsopleasedtoseethispostedhttpstcounugjh',\n",
       " 'chickpeamccokkinerthismoveisdatadriventhatguycantcontributeanythingmeaningfulvisvistheschttpstcovdbcuntlo',\n",
       " 'rtluxantaveyoumetaluxsnewadvisordavidakindelejoinedourteaminordertobringmoreawarenessproventrackrecordinfina',\n",
       " 'canyourecommendanyoneforthisjobincanadahttpstcodpglxzmjobofthedaybusinessmgmthiring',\n",
       " 'rttedxspringfieldspeakerhighlightjaneadamsistheresidentdatavisualizationartistattheuniversityofvermontcomplexsystemsc',\n",
       " 'rtbigdataezakomanycompaniesneeddatascientistsbutdontfindtheskillstheyneedhowtoovercomethisskillsgapthatsalsopres',\n",
       " 'rtkirkdbornetutorialsdatasciencesimplifiedinpartsregressionclassificationmodelselectionvalidationgeneralization',\n",
       " 'openscienceisnotonlyaboutopenoutcomesandopendata',\n",
       " 'niltonrckbotofdemaisaiencontroagaleradastelapretascripteirosczeirosumavisobemmelhordascohttpstcofrnutxditl',\n",
       " 'rtmeaningnessfraudinventedfactsareadifferentproblemfromnonsenseinsciencepublishingapaperbasedonfalsemadeupdat',\n",
       " 'rtaapariciomderplimackmdchapinmduretericbudpnotdesignedtoshowosbenefitbuttoinformdesignandinterpretationthroughco',\n",
       " 'christiansciencemonitoraidprogramsusethesamedatatrackingtechnologyasbitcoinhttpstcorhwetudhttpstcofuapzcnrti',\n",
       " 'rtpybonaccisivasaasistiraltallerdeintroduccinadatascienceenpythondelapyconesorganizadoporpydatamallorca',\n",
       " 'rtnewreadiajustheardaterrifictalkfromlaurenfkleinatdigifrontsdigitalfrontiersconferenceonthepowerdynamicsofda',\n",
       " 'rtdebbiediscoversapplyingdatasciencetocustomerservicechatbotsartemerrittmediumhttpstcoltvlidgnzg',\n",
       " 'precisoaprenderdatascienceemsemanas']"
      ]
     },
     "execution_count": 45,
     "metadata": {},
     "output_type": "execute_result"
    }
   ],
   "source": [
    "def tweet_cleaner(text):\n",
    "    soup=BeautifulSoup(text, 'lxml')\n",
    "    souped=soup.get_text()\n",
    "    stripped=re.sub(combined_part,'', souped)\n",
    "    try:\n",
    "        cln=stripped.decode(\"utf-8-sig\").replace(u\"\\ufffd\", \"?\")\n",
    "    except:\n",
    "        cln=stripped\n",
    "    letter_only=re.sub('[^a-zA-Z]', '', souped)\n",
    "    lower_case=letter_only.lower()\n",
    "    word=tok.tokenize(lower_case)\n",
    "    return (''.join(word)).strip()\n",
    "testing=data.text[:100]\n",
    "\n",
    "test_result=[]\n",
    "for t in testing:\n",
    "    test_result.append(tweet_cleaner(t))\n",
    "test_result"
   ]
  },
  {
   "cell_type": "code",
   "execution_count": null,
   "metadata": {},
   "outputs": [],
   "source": []
  },
  {
   "cell_type": "code",
   "execution_count": 65,
   "metadata": {},
   "outputs": [],
   "source": [
    "nums = [0,400000,800000,1200000,1600000]\n"
   ]
  },
  {
   "cell_type": "code",
   "execution_count": null,
   "metadata": {},
   "outputs": [],
   "source": []
  },
  {
   "cell_type": "code",
   "execution_count": 69,
   "metadata": {},
   "outputs": [],
   "source": [
    "xrange=range"
   ]
  },
  {
   "cell_type": "code",
   "execution_count": null,
   "metadata": {},
   "outputs": [],
   "source": []
  }
 ],
 "metadata": {
  "kernelspec": {
   "display_name": "Python 3",
   "language": "python",
   "name": "python3"
  },
  "language_info": {
   "codemirror_mode": {
    "name": "ipython",
    "version": 3
   },
   "file_extension": ".py",
   "mimetype": "text/x-python",
   "name": "python",
   "nbconvert_exporter": "python",
   "pygments_lexer": "ipython3",
   "version": "3.6.5"
  }
 },
 "nbformat": 4,
 "nbformat_minor": 2
}
